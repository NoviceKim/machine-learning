{
 "cells": [
  {
   "cell_type": "markdown",
   "id": "3baa1122-e8fa-4ef0-9e52-efbeacd5c94c",
   "metadata": {},
   "source": [
    "### AI (Artificial Intelligence)\n",
    "<img src='./images/intro.png' width='800px'>"
   ]
  },
  {
   "cell_type": "markdown",
   "id": "47a63879-c95c-49e3-acce-267a5f8f1a81",
   "metadata": {},
   "source": [
    "#### Rule-base AI\n",
    "- 특정 상황을 이해하는 전문가가 직접 입력값(문제)과 특징을 전달(규칙)하여 출력값(정답)을 내보내는 알고리즘이다.\n",
    "- 광법위한 데이터 수집, 정리 또는 교육이 필요하지 않으므로 전문가의 기존 지식을 기반으로 비지니스 규칙을 저의하여 구현 복잡성을 줄일 수 있다.\n",
    "- 의사 결정 프로세스가 명시적인 \"if-then\" 사전 정의 규칙에 의존하므로 높은 투명성을 제공한다.\n",
    "- 본질적으로 정적이며 유연성이 없기 때문에, 사전 정의된 규칙을 수동으로 조정하여 변화나 진화하는 조건에만 적응할 수 있다.\n",
    "- 사전 정의된 규칙이 명확한 지침을 제공하지 않는 모호하거나 불확실한 상황에 직면할 때 어려움을 겪을 수 있다.\n",
    "- 미리 정의된 기준에 의존하면, 전문가 개인의 편견이 들어갈 수 밖에 없고, 이로 인해 미묘한 행동을 설명하지 못할 수 있으며 잠재적으로 불공평하거나 부정확한 평가로 이어질 수 있다.\n",
    "\n",
    "#### Machine Learning AI\n",
    "- 데이터를 기반으로 규칙성(패턴)을 학습하여 결과를 추론하는 알고리즘이다.\n",
    "- 현실 세계의 패턴을 분석하여 개발자가 직접 코드를 작성하는 것이 어려웠으나 머신러닝을 이용하여 해결할 수 있다."
   ]
  },
  {
   "cell_type": "markdown",
   "id": "703ea3d8-1601-499f-bc0e-d7dc23f99e48",
   "metadata": {},
   "source": [
    "1. 지도 학습 (Supervised Learning)\n",
    "2. 비지도 학습 (Unsupervised Learning)\n",
    "3. 강화 학습 (Reinforcement Learning)"
   ]
  },
  {
   "cell_type": "code",
   "execution_count": null,
   "id": "561cf47c-4ee5-4979-b544-284e4299da41",
   "metadata": {},
   "outputs": [],
   "source": []
  },
  {
   "cell_type": "code",
   "execution_count": null,
   "id": "3f1480f5-aefb-48c2-a366-ca1a0c9e5cc4",
   "metadata": {},
   "outputs": [],
   "source": []
  }
 ],
 "metadata": {
  "kernelspec": {
   "display_name": "Python 3 (ipykernel)",
   "language": "python",
   "name": "python3"
  },
  "language_info": {
   "codemirror_mode": {
    "name": "ipython",
    "version": 3
   },
   "file_extension": ".py",
   "mimetype": "text/x-python",
   "name": "python",
   "nbconvert_exporter": "python",
   "pygments_lexer": "ipython3",
   "version": "3.11.8"
  }
 },
 "nbformat": 4,
 "nbformat_minor": 5
}
