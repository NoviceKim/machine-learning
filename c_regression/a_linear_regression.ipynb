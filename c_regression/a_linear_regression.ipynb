{
 "cells": [
  {
   "cell_type": "markdown",
   "id": "0c55a74d-787f-4c19-9512-9989fd991784",
   "metadata": {},
   "source": [
    "### 회귀 (Regression)\n",
    "- 데이터가 평균과 같은 '일정한 값' 으로 돌아가려는 경향을 이용한 통계학 기법이다.\n",
    "- 여러 개의 독립 변수와 한 개의 종속 변수 간의 상관관계를 모델링하는 기법을 통칭한다.\n",
    "> - 어느 정도의 상관관계가 있어야 모델링이 가능하다.\n",
    "- feature와 target 데이터 기반으로 학습하여 최적의 회귀 계수(W)를 찾는 것이 회귀의 목적이다.\n",
    "- 아래는 복습 시간에 따른 다음 수업의 이해도를 수치로 표현한 표이다.\n",
    "\n",
    "\n",
    "- 5시간 동안 복습을 했을 때, 다음 수업의 이해도를 예측하고자 한다면  \n",
    "**학습 데이터(x)를 '가장 잘 표현할 수 있는 직선' 을 찾아야 하고, 이 식을 회귀 분석에서는 가설(Hypothesis)라고 한다.**\n",
    "- 아래는 위 데이터를 표현하고자 하는 직선의 방정식과 가설이다.\n",
    "\n",
    "- 수학에서는 W는 기울기, b는 절편이라고 하지만, 가설에서는 W(Weight)는 가중치, b(bias)는 편향이라 한다.\n",
    "- 편향은 다양한 요인을 대표하는 값이다."
   ]
  },
  {
   "cell_type": "markdown",
   "id": "5f8448ee-7896-4103-81c8-a5b36754c366",
   "metadata": {},
   "source": []
  },
  {
   "cell_type": "code",
   "execution_count": null,
   "id": "7da4c2e7-9bc5-405c-ab34-cc959fa1111f",
   "metadata": {},
   "outputs": [],
   "source": []
  },
  {
   "cell_type": "code",
   "execution_count": null,
   "id": "782e2295-c3fc-40f2-af38-d6cd28bad5fe",
   "metadata": {},
   "outputs": [],
   "source": []
  },
  {
   "cell_type": "code",
   "execution_count": null,
   "id": "4857be21-0294-4dcc-ae05-f708cccdac66",
   "metadata": {},
   "outputs": [],
   "source": []
  },
  {
   "cell_type": "code",
   "execution_count": null,
   "id": "a4500712-cef7-40c8-9f1f-d730b29c2f91",
   "metadata": {},
   "outputs": [],
   "source": []
  },
  {
   "cell_type": "code",
   "execution_count": null,
   "id": "746152b5-a0ef-487a-ae3e-c216500f2e48",
   "metadata": {},
   "outputs": [],
   "source": []
  },
  {
   "cell_type": "code",
   "execution_count": null,
   "id": "f4fd4cfb-1c6e-4ecb-a031-09a1b3c4aa7e",
   "metadata": {},
   "outputs": [],
   "source": []
  },
  {
   "cell_type": "code",
   "execution_count": null,
   "id": "6edc1cc6-9fd7-4cf8-a8e2-90c7d2eb2a5d",
   "metadata": {},
   "outputs": [],
   "source": []
  },
  {
   "cell_type": "code",
   "execution_count": null,
   "id": "498d4c08-c84f-4421-88f6-8df5baa7e01a",
   "metadata": {},
   "outputs": [],
   "source": []
  }
 ],
 "metadata": {
  "kernelspec": {
   "display_name": "Python 3 (ipykernel)",
   "language": "python",
   "name": "python3"
  },
  "language_info": {
   "codemirror_mode": {
    "name": "ipython",
    "version": 3
   },
   "file_extension": ".py",
   "mimetype": "text/x-python",
   "name": "python",
   "nbconvert_exporter": "python",
   "pygments_lexer": "ipython3",
   "version": "3.11.8"
  }
 },
 "nbformat": 4,
 "nbformat_minor": 5
}
