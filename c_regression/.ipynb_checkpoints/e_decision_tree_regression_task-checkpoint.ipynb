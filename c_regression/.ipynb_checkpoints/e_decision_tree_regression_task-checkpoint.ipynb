{
 "cells": [
  {
   "cell_type": "markdown",
   "id": "5b50cb0c-6117-4a35-94e6-df384244c588",
   "metadata": {},
   "source": [
    "### Decision Tree Regression Task\r\n",
    "\r\n",
    "##### 기온 및 강수량 별 모기 비율 예측\r\n",
    "\r\n",
    "- date: 년-월-일\r\n",
    "- mosquito_Indicator: 모기 비율\r\n",
    "- rain(mm): 일 강수량\r\n",
    "- mean_T(℃): 일 평균 기온\r\n",
    "- min_T(℃): 일 최저 기온\r\n",
    "- max_T(℃): 일 최고 기온"
   ]
  },
  {
   "cell_type": "code",
   "execution_count": 14,
   "id": "cf4a51b3-6c58-44b7-aacc-705727fd6dbe",
   "metadata": {},
   "outputs": [
    {
     "data": {
      "text/html": [
       "<div>\n",
       "<style scoped>\n",
       "    .dataframe tbody tr th:only-of-type {\n",
       "        vertical-align: middle;\n",
       "    }\n",
       "\n",
       "    .dataframe tbody tr th {\n",
       "        vertical-align: top;\n",
       "    }\n",
       "\n",
       "    .dataframe thead th {\n",
       "        text-align: right;\n",
       "    }\n",
       "</style>\n",
       "<table border=\"1\" class=\"dataframe\">\n",
       "  <thead>\n",
       "    <tr style=\"text-align: right;\">\n",
       "      <th></th>\n",
       "      <th>date</th>\n",
       "      <th>mosquito_Indicator</th>\n",
       "      <th>rain(mm)</th>\n",
       "      <th>mean_T(℃)</th>\n",
       "      <th>min_T(℃)</th>\n",
       "      <th>max_T(℃)</th>\n",
       "    </tr>\n",
       "  </thead>\n",
       "  <tbody>\n",
       "    <tr>\n",
       "      <th>0</th>\n",
       "      <td>2016-05-01</td>\n",
       "      <td>254.4</td>\n",
       "      <td>0.0</td>\n",
       "      <td>18.8</td>\n",
       "      <td>12.2</td>\n",
       "      <td>26.0</td>\n",
       "    </tr>\n",
       "    <tr>\n",
       "      <th>1</th>\n",
       "      <td>2016-05-02</td>\n",
       "      <td>273.5</td>\n",
       "      <td>16.5</td>\n",
       "      <td>21.1</td>\n",
       "      <td>16.5</td>\n",
       "      <td>28.4</td>\n",
       "    </tr>\n",
       "    <tr>\n",
       "      <th>2</th>\n",
       "      <td>2016-05-03</td>\n",
       "      <td>304.0</td>\n",
       "      <td>27.0</td>\n",
       "      <td>12.9</td>\n",
       "      <td>8.9</td>\n",
       "      <td>17.6</td>\n",
       "    </tr>\n",
       "    <tr>\n",
       "      <th>3</th>\n",
       "      <td>2016-05-04</td>\n",
       "      <td>256.2</td>\n",
       "      <td>0.0</td>\n",
       "      <td>15.7</td>\n",
       "      <td>10.2</td>\n",
       "      <td>20.6</td>\n",
       "    </tr>\n",
       "    <tr>\n",
       "      <th>4</th>\n",
       "      <td>2016-05-05</td>\n",
       "      <td>243.8</td>\n",
       "      <td>7.5</td>\n",
       "      <td>18.9</td>\n",
       "      <td>10.2</td>\n",
       "      <td>26.9</td>\n",
       "    </tr>\n",
       "    <tr>\n",
       "      <th>...</th>\n",
       "      <td>...</td>\n",
       "      <td>...</td>\n",
       "      <td>...</td>\n",
       "      <td>...</td>\n",
       "      <td>...</td>\n",
       "      <td>...</td>\n",
       "    </tr>\n",
       "    <tr>\n",
       "      <th>1337</th>\n",
       "      <td>2019-12-27</td>\n",
       "      <td>5.5</td>\n",
       "      <td>0.0</td>\n",
       "      <td>-1.7</td>\n",
       "      <td>-4.6</td>\n",
       "      <td>2.6</td>\n",
       "    </tr>\n",
       "    <tr>\n",
       "      <th>1338</th>\n",
       "      <td>2019-12-28</td>\n",
       "      <td>5.5</td>\n",
       "      <td>0.0</td>\n",
       "      <td>1.1</td>\n",
       "      <td>-3.6</td>\n",
       "      <td>6.1</td>\n",
       "    </tr>\n",
       "    <tr>\n",
       "      <th>1339</th>\n",
       "      <td>2019-12-29</td>\n",
       "      <td>5.5</td>\n",
       "      <td>1.4</td>\n",
       "      <td>3.8</td>\n",
       "      <td>1.1</td>\n",
       "      <td>6.2</td>\n",
       "    </tr>\n",
       "    <tr>\n",
       "      <th>1340</th>\n",
       "      <td>2019-12-30</td>\n",
       "      <td>5.5</td>\n",
       "      <td>0.4</td>\n",
       "      <td>2.7</td>\n",
       "      <td>-5.7</td>\n",
       "      <td>6.8</td>\n",
       "    </tr>\n",
       "    <tr>\n",
       "      <th>1341</th>\n",
       "      <td>2019-12-31</td>\n",
       "      <td>5.5</td>\n",
       "      <td>0.0</td>\n",
       "      <td>-7.9</td>\n",
       "      <td>-10.9</td>\n",
       "      <td>-4.5</td>\n",
       "    </tr>\n",
       "  </tbody>\n",
       "</table>\n",
       "<p>1342 rows × 6 columns</p>\n",
       "</div>"
      ],
      "text/plain": [
       "            date  mosquito_Indicator  rain(mm)  mean_T(℃)  min_T(℃)  max_T(℃)\n",
       "0     2016-05-01               254.4       0.0       18.8      12.2      26.0\n",
       "1     2016-05-02               273.5      16.5       21.1      16.5      28.4\n",
       "2     2016-05-03               304.0      27.0       12.9       8.9      17.6\n",
       "3     2016-05-04               256.2       0.0       15.7      10.2      20.6\n",
       "4     2016-05-05               243.8       7.5       18.9      10.2      26.9\n",
       "...          ...                 ...       ...        ...       ...       ...\n",
       "1337  2019-12-27                 5.5       0.0       -1.7      -4.6       2.6\n",
       "1338  2019-12-28                 5.5       0.0        1.1      -3.6       6.1\n",
       "1339  2019-12-29                 5.5       1.4        3.8       1.1       6.2\n",
       "1340  2019-12-30                 5.5       0.4        2.7      -5.7       6.8\n",
       "1341  2019-12-31                 5.5       0.0       -7.9     -10.9      -4.5\n",
       "\n",
       "[1342 rows x 6 columns]"
      ]
     },
     "execution_count": 14,
     "metadata": {},
     "output_type": "execute_result"
    }
   ],
   "source": [
    "import pandas as pd\n",
    "import numpy as np\n",
    "\n",
    "m_df = pd.read_csv('./datasets/korea_mosquito.csv')\n",
    "\n",
    "m_df"
   ]
  },
  {
   "cell_type": "code",
   "execution_count": 15,
   "id": "f9db07ad-d307-492a-bd51-69eea50f7b37",
   "metadata": {},
   "outputs": [
    {
     "data": {
      "text/html": [
       "<div>\n",
       "<style scoped>\n",
       "    .dataframe tbody tr th:only-of-type {\n",
       "        vertical-align: middle;\n",
       "    }\n",
       "\n",
       "    .dataframe tbody tr th {\n",
       "        vertical-align: top;\n",
       "    }\n",
       "\n",
       "    .dataframe thead th {\n",
       "        text-align: right;\n",
       "    }\n",
       "</style>\n",
       "<table border=\"1\" class=\"dataframe\">\n",
       "  <thead>\n",
       "    <tr style=\"text-align: right;\">\n",
       "      <th></th>\n",
       "      <th>date</th>\n",
       "      <th>rain(mm)</th>\n",
       "      <th>mean_T(℃)</th>\n",
       "      <th>min_T(℃)</th>\n",
       "      <th>max_T(℃)</th>\n",
       "      <th>mosquito_Indicator</th>\n",
       "    </tr>\n",
       "  </thead>\n",
       "  <tbody>\n",
       "    <tr>\n",
       "      <th>0</th>\n",
       "      <td>2016-05-01</td>\n",
       "      <td>0.0</td>\n",
       "      <td>18.8</td>\n",
       "      <td>12.2</td>\n",
       "      <td>26.0</td>\n",
       "      <td>254.4</td>\n",
       "    </tr>\n",
       "    <tr>\n",
       "      <th>1</th>\n",
       "      <td>2016-05-02</td>\n",
       "      <td>16.5</td>\n",
       "      <td>21.1</td>\n",
       "      <td>16.5</td>\n",
       "      <td>28.4</td>\n",
       "      <td>273.5</td>\n",
       "    </tr>\n",
       "    <tr>\n",
       "      <th>2</th>\n",
       "      <td>2016-05-03</td>\n",
       "      <td>27.0</td>\n",
       "      <td>12.9</td>\n",
       "      <td>8.9</td>\n",
       "      <td>17.6</td>\n",
       "      <td>304.0</td>\n",
       "    </tr>\n",
       "    <tr>\n",
       "      <th>3</th>\n",
       "      <td>2016-05-04</td>\n",
       "      <td>0.0</td>\n",
       "      <td>15.7</td>\n",
       "      <td>10.2</td>\n",
       "      <td>20.6</td>\n",
       "      <td>256.2</td>\n",
       "    </tr>\n",
       "    <tr>\n",
       "      <th>4</th>\n",
       "      <td>2016-05-05</td>\n",
       "      <td>7.5</td>\n",
       "      <td>18.9</td>\n",
       "      <td>10.2</td>\n",
       "      <td>26.9</td>\n",
       "      <td>243.8</td>\n",
       "    </tr>\n",
       "    <tr>\n",
       "      <th>...</th>\n",
       "      <td>...</td>\n",
       "      <td>...</td>\n",
       "      <td>...</td>\n",
       "      <td>...</td>\n",
       "      <td>...</td>\n",
       "      <td>...</td>\n",
       "    </tr>\n",
       "    <tr>\n",
       "      <th>1337</th>\n",
       "      <td>2019-12-27</td>\n",
       "      <td>0.0</td>\n",
       "      <td>-1.7</td>\n",
       "      <td>-4.6</td>\n",
       "      <td>2.6</td>\n",
       "      <td>5.5</td>\n",
       "    </tr>\n",
       "    <tr>\n",
       "      <th>1338</th>\n",
       "      <td>2019-12-28</td>\n",
       "      <td>0.0</td>\n",
       "      <td>1.1</td>\n",
       "      <td>-3.6</td>\n",
       "      <td>6.1</td>\n",
       "      <td>5.5</td>\n",
       "    </tr>\n",
       "    <tr>\n",
       "      <th>1339</th>\n",
       "      <td>2019-12-29</td>\n",
       "      <td>1.4</td>\n",
       "      <td>3.8</td>\n",
       "      <td>1.1</td>\n",
       "      <td>6.2</td>\n",
       "      <td>5.5</td>\n",
       "    </tr>\n",
       "    <tr>\n",
       "      <th>1340</th>\n",
       "      <td>2019-12-30</td>\n",
       "      <td>0.4</td>\n",
       "      <td>2.7</td>\n",
       "      <td>-5.7</td>\n",
       "      <td>6.8</td>\n",
       "      <td>5.5</td>\n",
       "    </tr>\n",
       "    <tr>\n",
       "      <th>1341</th>\n",
       "      <td>2019-12-31</td>\n",
       "      <td>0.0</td>\n",
       "      <td>-7.9</td>\n",
       "      <td>-10.9</td>\n",
       "      <td>-4.5</td>\n",
       "      <td>5.5</td>\n",
       "    </tr>\n",
       "  </tbody>\n",
       "</table>\n",
       "<p>1342 rows × 6 columns</p>\n",
       "</div>"
      ],
      "text/plain": [
       "            date  rain(mm)  mean_T(℃)  min_T(℃)  max_T(℃)  mosquito_Indicator\n",
       "0     2016-05-01       0.0       18.8      12.2      26.0               254.4\n",
       "1     2016-05-02      16.5       21.1      16.5      28.4               273.5\n",
       "2     2016-05-03      27.0       12.9       8.9      17.6               304.0\n",
       "3     2016-05-04       0.0       15.7      10.2      20.6               256.2\n",
       "4     2016-05-05       7.5       18.9      10.2      26.9               243.8\n",
       "...          ...       ...        ...       ...       ...                 ...\n",
       "1337  2019-12-27       0.0       -1.7      -4.6       2.6                 5.5\n",
       "1338  2019-12-28       0.0        1.1      -3.6       6.1                 5.5\n",
       "1339  2019-12-29       1.4        3.8       1.1       6.2                 5.5\n",
       "1340  2019-12-30       0.4        2.7      -5.7       6.8                 5.5\n",
       "1341  2019-12-31       0.0       -7.9     -10.9      -4.5                 5.5\n",
       "\n",
       "[1342 rows x 6 columns]"
      ]
     },
     "execution_count": 15,
     "metadata": {},
     "output_type": "execute_result"
    }
   ],
   "source": [
    "# 데이터 세트 복사하면서 컬럼 순서 및 이름 변경\n",
    "columns = ['date', 'rain(mm)', 'mean_T(℃)', 'min_T(℃)', 'max_T(℃)', 'mosquito_Indicator']\n",
    "\n",
    "pre_m_df = m_df.loc[:, columns]\n",
    "pre_m_df"
   ]
  },
  {
   "cell_type": "code",
   "execution_count": 16,
   "id": "ec854b29-2f6a-4299-83f1-2e0883e43756",
   "metadata": {},
   "outputs": [
    {
     "data": {
      "text/html": [
       "<div>\n",
       "<style scoped>\n",
       "    .dataframe tbody tr th:only-of-type {\n",
       "        vertical-align: middle;\n",
       "    }\n",
       "\n",
       "    .dataframe tbody tr th {\n",
       "        vertical-align: top;\n",
       "    }\n",
       "\n",
       "    .dataframe thead th {\n",
       "        text-align: right;\n",
       "    }\n",
       "</style>\n",
       "<table border=\"1\" class=\"dataframe\">\n",
       "  <thead>\n",
       "    <tr style=\"text-align: right;\">\n",
       "      <th></th>\n",
       "      <th>date</th>\n",
       "      <th>rain</th>\n",
       "      <th>mean_temp</th>\n",
       "      <th>min_temp</th>\n",
       "      <th>max_temp</th>\n",
       "      <th>mosquito_Indicator</th>\n",
       "    </tr>\n",
       "  </thead>\n",
       "  <tbody>\n",
       "    <tr>\n",
       "      <th>0</th>\n",
       "      <td>2016-05-01</td>\n",
       "      <td>0.0</td>\n",
       "      <td>18.8</td>\n",
       "      <td>12.2</td>\n",
       "      <td>26.0</td>\n",
       "      <td>254.4</td>\n",
       "    </tr>\n",
       "    <tr>\n",
       "      <th>1</th>\n",
       "      <td>2016-05-02</td>\n",
       "      <td>16.5</td>\n",
       "      <td>21.1</td>\n",
       "      <td>16.5</td>\n",
       "      <td>28.4</td>\n",
       "      <td>273.5</td>\n",
       "    </tr>\n",
       "    <tr>\n",
       "      <th>2</th>\n",
       "      <td>2016-05-03</td>\n",
       "      <td>27.0</td>\n",
       "      <td>12.9</td>\n",
       "      <td>8.9</td>\n",
       "      <td>17.6</td>\n",
       "      <td>304.0</td>\n",
       "    </tr>\n",
       "    <tr>\n",
       "      <th>3</th>\n",
       "      <td>2016-05-04</td>\n",
       "      <td>0.0</td>\n",
       "      <td>15.7</td>\n",
       "      <td>10.2</td>\n",
       "      <td>20.6</td>\n",
       "      <td>256.2</td>\n",
       "    </tr>\n",
       "    <tr>\n",
       "      <th>4</th>\n",
       "      <td>2016-05-05</td>\n",
       "      <td>7.5</td>\n",
       "      <td>18.9</td>\n",
       "      <td>10.2</td>\n",
       "      <td>26.9</td>\n",
       "      <td>243.8</td>\n",
       "    </tr>\n",
       "    <tr>\n",
       "      <th>...</th>\n",
       "      <td>...</td>\n",
       "      <td>...</td>\n",
       "      <td>...</td>\n",
       "      <td>...</td>\n",
       "      <td>...</td>\n",
       "      <td>...</td>\n",
       "    </tr>\n",
       "    <tr>\n",
       "      <th>1337</th>\n",
       "      <td>2019-12-27</td>\n",
       "      <td>0.0</td>\n",
       "      <td>-1.7</td>\n",
       "      <td>-4.6</td>\n",
       "      <td>2.6</td>\n",
       "      <td>5.5</td>\n",
       "    </tr>\n",
       "    <tr>\n",
       "      <th>1338</th>\n",
       "      <td>2019-12-28</td>\n",
       "      <td>0.0</td>\n",
       "      <td>1.1</td>\n",
       "      <td>-3.6</td>\n",
       "      <td>6.1</td>\n",
       "      <td>5.5</td>\n",
       "    </tr>\n",
       "    <tr>\n",
       "      <th>1339</th>\n",
       "      <td>2019-12-29</td>\n",
       "      <td>1.4</td>\n",
       "      <td>3.8</td>\n",
       "      <td>1.1</td>\n",
       "      <td>6.2</td>\n",
       "      <td>5.5</td>\n",
       "    </tr>\n",
       "    <tr>\n",
       "      <th>1340</th>\n",
       "      <td>2019-12-30</td>\n",
       "      <td>0.4</td>\n",
       "      <td>2.7</td>\n",
       "      <td>-5.7</td>\n",
       "      <td>6.8</td>\n",
       "      <td>5.5</td>\n",
       "    </tr>\n",
       "    <tr>\n",
       "      <th>1341</th>\n",
       "      <td>2019-12-31</td>\n",
       "      <td>0.0</td>\n",
       "      <td>-7.9</td>\n",
       "      <td>-10.9</td>\n",
       "      <td>-4.5</td>\n",
       "      <td>5.5</td>\n",
       "    </tr>\n",
       "  </tbody>\n",
       "</table>\n",
       "<p>1342 rows × 6 columns</p>\n",
       "</div>"
      ],
      "text/plain": [
       "            date  rain  mean_temp  min_temp  max_temp  mosquito_Indicator\n",
       "0     2016-05-01   0.0       18.8      12.2      26.0               254.4\n",
       "1     2016-05-02  16.5       21.1      16.5      28.4               273.5\n",
       "2     2016-05-03  27.0       12.9       8.9      17.6               304.0\n",
       "3     2016-05-04   0.0       15.7      10.2      20.6               256.2\n",
       "4     2016-05-05   7.5       18.9      10.2      26.9               243.8\n",
       "...          ...   ...        ...       ...       ...                 ...\n",
       "1337  2019-12-27   0.0       -1.7      -4.6       2.6                 5.5\n",
       "1338  2019-12-28   0.0        1.1      -3.6       6.1                 5.5\n",
       "1339  2019-12-29   1.4        3.8       1.1       6.2                 5.5\n",
       "1340  2019-12-30   0.4        2.7      -5.7       6.8                 5.5\n",
       "1341  2019-12-31   0.0       -7.9     -10.9      -4.5                 5.5\n",
       "\n",
       "[1342 rows x 6 columns]"
      ]
     },
     "execution_count": 16,
     "metadata": {},
     "output_type": "execute_result"
    }
   ],
   "source": [
    "pre_m_df.columns = ['date', 'rain', 'mean_temp', 'min_temp', 'max_temp', 'mosquito_Indicator']\n",
    "pre_m_df"
   ]
  },
  {
   "cell_type": "code",
   "execution_count": 17,
   "id": "e39db501-b53c-42c9-a4ec-1a3b03e682c6",
   "metadata": {},
   "outputs": [
    {
     "name": "stdout",
     "output_type": "stream",
     "text": [
      "<class 'pandas.core.frame.DataFrame'>\n",
      "RangeIndex: 1342 entries, 0 to 1341\n",
      "Data columns (total 6 columns):\n",
      " #   Column              Non-Null Count  Dtype  \n",
      "---  ------              --------------  -----  \n",
      " 0   date                1342 non-null   object \n",
      " 1   rain                1342 non-null   float64\n",
      " 2   mean_temp           1342 non-null   float64\n",
      " 3   min_temp            1342 non-null   float64\n",
      " 4   max_temp            1342 non-null   float64\n",
      " 5   mosquito_Indicator  1342 non-null   float64\n",
      "dtypes: float64(5), object(1)\n",
      "memory usage: 63.0+ KB\n"
     ]
    }
   ],
   "source": [
    "# 데이터 세트 정보 출력\n",
    "pre_m_df.info()"
   ]
  },
  {
   "cell_type": "markdown",
   "id": "1d2ab856-050e-418d-8e67-9d8975319d16",
   "metadata": {},
   "source": [
    "#### 중간 분석\n",
    "- 필요없는 컬럼 없음\n",
    "- 날짜를 datetime 형식으로 변경"
   ]
  },
  {
   "cell_type": "code",
   "execution_count": 19,
   "id": "48fa7992-67bd-4789-9371-5982072e599f",
   "metadata": {},
   "outputs": [
    {
     "data": {
      "text/html": [
       "<div>\n",
       "<style scoped>\n",
       "    .dataframe tbody tr th:only-of-type {\n",
       "        vertical-align: middle;\n",
       "    }\n",
       "\n",
       "    .dataframe tbody tr th {\n",
       "        vertical-align: top;\n",
       "    }\n",
       "\n",
       "    .dataframe thead th {\n",
       "        text-align: right;\n",
       "    }\n",
       "</style>\n",
       "<table border=\"1\" class=\"dataframe\">\n",
       "  <thead>\n",
       "    <tr style=\"text-align: right;\">\n",
       "      <th></th>\n",
       "      <th>date</th>\n",
       "      <th>rain</th>\n",
       "      <th>mean_temp</th>\n",
       "      <th>min_temp</th>\n",
       "      <th>max_temp</th>\n",
       "      <th>mosquito_Indicator</th>\n",
       "    </tr>\n",
       "  </thead>\n",
       "  <tbody>\n",
       "    <tr>\n",
       "      <th>0</th>\n",
       "      <td>2016-05-01 00:00:00</td>\n",
       "      <td>0.0</td>\n",
       "      <td>18.8</td>\n",
       "      <td>12.2</td>\n",
       "      <td>26.0</td>\n",
       "      <td>254.4</td>\n",
       "    </tr>\n",
       "    <tr>\n",
       "      <th>1</th>\n",
       "      <td>2016-05-02 00:00:00</td>\n",
       "      <td>16.5</td>\n",
       "      <td>21.1</td>\n",
       "      <td>16.5</td>\n",
       "      <td>28.4</td>\n",
       "      <td>273.5</td>\n",
       "    </tr>\n",
       "    <tr>\n",
       "      <th>2</th>\n",
       "      <td>2016-05-03 00:00:00</td>\n",
       "      <td>27.0</td>\n",
       "      <td>12.9</td>\n",
       "      <td>8.9</td>\n",
       "      <td>17.6</td>\n",
       "      <td>304.0</td>\n",
       "    </tr>\n",
       "    <tr>\n",
       "      <th>3</th>\n",
       "      <td>2016-05-04 00:00:00</td>\n",
       "      <td>0.0</td>\n",
       "      <td>15.7</td>\n",
       "      <td>10.2</td>\n",
       "      <td>20.6</td>\n",
       "      <td>256.2</td>\n",
       "    </tr>\n",
       "    <tr>\n",
       "      <th>4</th>\n",
       "      <td>2016-05-05 00:00:00</td>\n",
       "      <td>7.5</td>\n",
       "      <td>18.9</td>\n",
       "      <td>10.2</td>\n",
       "      <td>26.9</td>\n",
       "      <td>243.8</td>\n",
       "    </tr>\n",
       "    <tr>\n",
       "      <th>...</th>\n",
       "      <td>...</td>\n",
       "      <td>...</td>\n",
       "      <td>...</td>\n",
       "      <td>...</td>\n",
       "      <td>...</td>\n",
       "      <td>...</td>\n",
       "    </tr>\n",
       "    <tr>\n",
       "      <th>1337</th>\n",
       "      <td>2019-12-27 00:00:00</td>\n",
       "      <td>0.0</td>\n",
       "      <td>-1.7</td>\n",
       "      <td>-4.6</td>\n",
       "      <td>2.6</td>\n",
       "      <td>5.5</td>\n",
       "    </tr>\n",
       "    <tr>\n",
       "      <th>1338</th>\n",
       "      <td>2019-12-28 00:00:00</td>\n",
       "      <td>0.0</td>\n",
       "      <td>1.1</td>\n",
       "      <td>-3.6</td>\n",
       "      <td>6.1</td>\n",
       "      <td>5.5</td>\n",
       "    </tr>\n",
       "    <tr>\n",
       "      <th>1339</th>\n",
       "      <td>2019-12-29 00:00:00</td>\n",
       "      <td>1.4</td>\n",
       "      <td>3.8</td>\n",
       "      <td>1.1</td>\n",
       "      <td>6.2</td>\n",
       "      <td>5.5</td>\n",
       "    </tr>\n",
       "    <tr>\n",
       "      <th>1340</th>\n",
       "      <td>2019-12-30 00:00:00</td>\n",
       "      <td>0.4</td>\n",
       "      <td>2.7</td>\n",
       "      <td>-5.7</td>\n",
       "      <td>6.8</td>\n",
       "      <td>5.5</td>\n",
       "    </tr>\n",
       "    <tr>\n",
       "      <th>1341</th>\n",
       "      <td>2019-12-31 00:00:00</td>\n",
       "      <td>0.0</td>\n",
       "      <td>-7.9</td>\n",
       "      <td>-10.9</td>\n",
       "      <td>-4.5</td>\n",
       "      <td>5.5</td>\n",
       "    </tr>\n",
       "  </tbody>\n",
       "</table>\n",
       "<p>1342 rows × 6 columns</p>\n",
       "</div>"
      ],
      "text/plain": [
       "                     date  rain  mean_temp  min_temp  max_temp  \\\n",
       "0     2016-05-01 00:00:00   0.0       18.8      12.2      26.0   \n",
       "1     2016-05-02 00:00:00  16.5       21.1      16.5      28.4   \n",
       "2     2016-05-03 00:00:00  27.0       12.9       8.9      17.6   \n",
       "3     2016-05-04 00:00:00   0.0       15.7      10.2      20.6   \n",
       "4     2016-05-05 00:00:00   7.5       18.9      10.2      26.9   \n",
       "...                   ...   ...        ...       ...       ...   \n",
       "1337  2019-12-27 00:00:00   0.0       -1.7      -4.6       2.6   \n",
       "1338  2019-12-28 00:00:00   0.0        1.1      -3.6       6.1   \n",
       "1339  2019-12-29 00:00:00   1.4        3.8       1.1       6.2   \n",
       "1340  2019-12-30 00:00:00   0.4        2.7      -5.7       6.8   \n",
       "1341  2019-12-31 00:00:00   0.0       -7.9     -10.9      -4.5   \n",
       "\n",
       "      mosquito_Indicator  \n",
       "0                  254.4  \n",
       "1                  273.5  \n",
       "2                  304.0  \n",
       "3                  256.2  \n",
       "4                  243.8  \n",
       "...                  ...  \n",
       "1337                 5.5  \n",
       "1338                 5.5  \n",
       "1339                 5.5  \n",
       "1340                 5.5  \n",
       "1341                 5.5  \n",
       "\n",
       "[1342 rows x 6 columns]"
      ]
     },
     "execution_count": 19,
     "metadata": {},
     "output_type": "execute_result"
    }
   ],
   "source": [
    "pre_m_df.loc[:, 'date'] = pd.to_datetime(pre_m_df.date, dayfirst=True, format='mixed')\n",
    "pre_m_df"
   ]
  },
  {
   "cell_type": "code",
   "execution_count": 20,
   "id": "51c4b314-0379-431f-b51d-a2741878e631",
   "metadata": {},
   "outputs": [
    {
     "data": {
      "text/plain": [
       "date\n",
       "2017-09-11    4\n",
       "2018-02-09    4\n",
       "2017-06-01    4\n",
       "2017-07-10    4\n",
       "2017-08-05    4\n",
       "             ..\n",
       "2017-07-08    1\n",
       "2017-07-07    1\n",
       "2017-07-06    1\n",
       "2017-07-05    1\n",
       "2019-12-31    1\n",
       "Name: count, Length: 1295, dtype: int64"
      ]
     },
     "execution_count": 20,
     "metadata": {},
     "output_type": "execute_result"
    }
   ],
   "source": [
    "# 날짜의 value_counts 출력 - 모든 데이터의 날짜가 전부 다른지 확이하기 위함\n",
    "pre_m_df.date.value_counts()"
   ]
  },
  {
   "cell_type": "code",
   "execution_count": 21,
   "id": "b8edb2c6-2c9c-4fb1-80b8-70bcb7b3a9c5",
   "metadata": {},
   "outputs": [
    {
     "data": {
      "text/plain": [
       "1295"
      ]
     },
     "execution_count": 21,
     "metadata": {},
     "output_type": "execute_result"
    }
   ],
   "source": [
    "len(pre_m_df.date.unique())"
   ]
  },
  {
   "cell_type": "code",
   "execution_count": 22,
   "id": "30fcce1e-af02-4293-a3b0-b97020cd74bd",
   "metadata": {},
   "outputs": [
    {
     "data": {
      "text/plain": [
       "47"
      ]
     },
     "execution_count": 22,
     "metadata": {},
     "output_type": "execute_result"
    }
   ],
   "source": [
    "# 날짜가 같은 데이터가 존재하니 중복 여부 검사\n",
    "pre_m_df.duplicated().sum()"
   ]
  },
  {
   "cell_type": "code",
   "execution_count": 23,
   "id": "b15b31c8-57ef-43ad-9b87-a65c742de74a",
   "metadata": {},
   "outputs": [
    {
     "data": {
      "text/plain": [
       "0"
      ]
     },
     "execution_count": 23,
     "metadata": {},
     "output_type": "execute_result"
    }
   ],
   "source": [
    "# 중복 제거\n",
    "pre_m_df = pre_m_df.drop_duplicates()\n",
    "pre_m_df.duplicated().sum()"
   ]
  },
  {
   "cell_type": "code",
   "execution_count": 24,
   "id": "9a8d1a81-4134-4a70-9aa6-cf12ed9ddcb1",
   "metadata": {},
   "outputs": [
    {
     "data": {
      "text/plain": [
       "1295"
      ]
     },
     "execution_count": 24,
     "metadata": {},
     "output_type": "execute_result"
    }
   ],
   "source": [
    "# 날짜 중복 여부 재확인\n",
    "len(pre_m_df.date.unique())"
   ]
  },
  {
   "cell_type": "code",
   "execution_count": 25,
   "id": "069b501f-ba81-4fb5-a5c4-69f4dc961d50",
   "metadata": {},
   "outputs": [
    {
     "data": {
      "text/html": [
       "<div>\n",
       "<style scoped>\n",
       "    .dataframe tbody tr th:only-of-type {\n",
       "        vertical-align: middle;\n",
       "    }\n",
       "\n",
       "    .dataframe tbody tr th {\n",
       "        vertical-align: top;\n",
       "    }\n",
       "\n",
       "    .dataframe thead th {\n",
       "        text-align: right;\n",
       "    }\n",
       "</style>\n",
       "<table border=\"1\" class=\"dataframe\">\n",
       "  <thead>\n",
       "    <tr style=\"text-align: right;\">\n",
       "      <th></th>\n",
       "      <th>date</th>\n",
       "      <th>rain</th>\n",
       "      <th>mean_temp</th>\n",
       "      <th>min_temp</th>\n",
       "      <th>max_temp</th>\n",
       "      <th>mosquito_Indicator</th>\n",
       "    </tr>\n",
       "  </thead>\n",
       "  <tbody>\n",
       "    <tr>\n",
       "      <th>0</th>\n",
       "      <td>2016-05-01 00:00:00</td>\n",
       "      <td>0.0</td>\n",
       "      <td>18.8</td>\n",
       "      <td>12.2</td>\n",
       "      <td>26.0</td>\n",
       "      <td>254.4</td>\n",
       "    </tr>\n",
       "    <tr>\n",
       "      <th>1</th>\n",
       "      <td>2016-05-02 00:00:00</td>\n",
       "      <td>16.5</td>\n",
       "      <td>21.1</td>\n",
       "      <td>16.5</td>\n",
       "      <td>28.4</td>\n",
       "      <td>273.5</td>\n",
       "    </tr>\n",
       "    <tr>\n",
       "      <th>2</th>\n",
       "      <td>2016-05-03 00:00:00</td>\n",
       "      <td>27.0</td>\n",
       "      <td>12.9</td>\n",
       "      <td>8.9</td>\n",
       "      <td>17.6</td>\n",
       "      <td>304.0</td>\n",
       "    </tr>\n",
       "    <tr>\n",
       "      <th>3</th>\n",
       "      <td>2016-05-04 00:00:00</td>\n",
       "      <td>0.0</td>\n",
       "      <td>15.7</td>\n",
       "      <td>10.2</td>\n",
       "      <td>20.6</td>\n",
       "      <td>256.2</td>\n",
       "    </tr>\n",
       "    <tr>\n",
       "      <th>4</th>\n",
       "      <td>2016-05-05 00:00:00</td>\n",
       "      <td>7.5</td>\n",
       "      <td>18.9</td>\n",
       "      <td>10.2</td>\n",
       "      <td>26.9</td>\n",
       "      <td>243.8</td>\n",
       "    </tr>\n",
       "    <tr>\n",
       "      <th>...</th>\n",
       "      <td>...</td>\n",
       "      <td>...</td>\n",
       "      <td>...</td>\n",
       "      <td>...</td>\n",
       "      <td>...</td>\n",
       "      <td>...</td>\n",
       "    </tr>\n",
       "    <tr>\n",
       "      <th>1290</th>\n",
       "      <td>2019-12-27 00:00:00</td>\n",
       "      <td>0.0</td>\n",
       "      <td>-1.7</td>\n",
       "      <td>-4.6</td>\n",
       "      <td>2.6</td>\n",
       "      <td>5.5</td>\n",
       "    </tr>\n",
       "    <tr>\n",
       "      <th>1291</th>\n",
       "      <td>2019-12-28 00:00:00</td>\n",
       "      <td>0.0</td>\n",
       "      <td>1.1</td>\n",
       "      <td>-3.6</td>\n",
       "      <td>6.1</td>\n",
       "      <td>5.5</td>\n",
       "    </tr>\n",
       "    <tr>\n",
       "      <th>1292</th>\n",
       "      <td>2019-12-29 00:00:00</td>\n",
       "      <td>1.4</td>\n",
       "      <td>3.8</td>\n",
       "      <td>1.1</td>\n",
       "      <td>6.2</td>\n",
       "      <td>5.5</td>\n",
       "    </tr>\n",
       "    <tr>\n",
       "      <th>1293</th>\n",
       "      <td>2019-12-30 00:00:00</td>\n",
       "      <td>0.4</td>\n",
       "      <td>2.7</td>\n",
       "      <td>-5.7</td>\n",
       "      <td>6.8</td>\n",
       "      <td>5.5</td>\n",
       "    </tr>\n",
       "    <tr>\n",
       "      <th>1294</th>\n",
       "      <td>2019-12-31 00:00:00</td>\n",
       "      <td>0.0</td>\n",
       "      <td>-7.9</td>\n",
       "      <td>-10.9</td>\n",
       "      <td>-4.5</td>\n",
       "      <td>5.5</td>\n",
       "    </tr>\n",
       "  </tbody>\n",
       "</table>\n",
       "<p>1295 rows × 6 columns</p>\n",
       "</div>"
      ],
      "text/plain": [
       "                     date  rain  mean_temp  min_temp  max_temp  \\\n",
       "0     2016-05-01 00:00:00   0.0       18.8      12.2      26.0   \n",
       "1     2016-05-02 00:00:00  16.5       21.1      16.5      28.4   \n",
       "2     2016-05-03 00:00:00  27.0       12.9       8.9      17.6   \n",
       "3     2016-05-04 00:00:00   0.0       15.7      10.2      20.6   \n",
       "4     2016-05-05 00:00:00   7.5       18.9      10.2      26.9   \n",
       "...                   ...   ...        ...       ...       ...   \n",
       "1290  2019-12-27 00:00:00   0.0       -1.7      -4.6       2.6   \n",
       "1291  2019-12-28 00:00:00   0.0        1.1      -3.6       6.1   \n",
       "1292  2019-12-29 00:00:00   1.4        3.8       1.1       6.2   \n",
       "1293  2019-12-30 00:00:00   0.4        2.7      -5.7       6.8   \n",
       "1294  2019-12-31 00:00:00   0.0       -7.9     -10.9      -4.5   \n",
       "\n",
       "      mosquito_Indicator  \n",
       "0                  254.4  \n",
       "1                  273.5  \n",
       "2                  304.0  \n",
       "3                  256.2  \n",
       "4                  243.8  \n",
       "...                  ...  \n",
       "1290                 5.5  \n",
       "1291                 5.5  \n",
       "1292                 5.5  \n",
       "1293                 5.5  \n",
       "1294                 5.5  \n",
       "\n",
       "[1295 rows x 6 columns]"
      ]
     },
     "execution_count": 25,
     "metadata": {},
     "output_type": "execute_result"
    }
   ],
   "source": [
    "# 인덱스 초기화\n",
    "pre_m_df = pre_m_df.reset_index(drop=True)\n",
    "pre_m_df"
   ]
  },
  {
   "cell_type": "markdown",
   "id": "a0296409-702f-4ca2-b4ff-29f11c41b7bc",
   "metadata": {},
   "source": [
    "#### 중간 분석\n",
    "- 현재 날짜 겹치는 데이터 없음\n",
    "- 따라서 groupby 없이 날짜에 따른 모기 비율 시각화"
   ]
  },
  {
   "cell_type": "code",
   "execution_count": 26,
   "id": "49b9df41-f9e7-452b-a9e0-587dbcf574ef",
   "metadata": {},
   "outputs": [
    {
     "data": {
      "image/png": "[encoded data removed]",
      "text/plain": [
       "<Figure size 2000x800 with 1 Axes>"
      ]
     },
     "metadata": {},
     "output_type": "display_data"
    }
   ],
   "source": [
    "import matplotlib.pyplot as plt\n",
    "import matplotlib.dates as mdates\n",
    "\n",
    "fig, ax = plt.subplots(figsize=(20, 8))\n",
    "\n",
    "date_format = mdates.DateFormatter('%Y-%m')\n",
    "\n",
    "# 날짜에 따른 모기 비율 시각화\n",
    "# x축 눈금은 4주 단위로 표시\n",
    "ax.xaxis.set_major_locator(mdates.WeekdayLocator(interval=4))\n",
    "ax.xaxis.set_major_formatter(date_format)\n",
    "ax.plot(pre_m_df.date, pre_m_df.mosquito_Indicator)\n",
    "plt.xticks(rotation=90)\n",
    "plt.show()"
   ]
  },
  {
   "cell_type": "code",
   "execution_count": 28,
   "id": "a1be5dde-fcde-4017-bf95-d9779dbbb1c0",
   "metadata": {},
   "outputs": [
    {
     "data": {
      "text/plain": [
       "array([[<Axes: title={'center': 'rain'}>,\n",
       "        <Axes: title={'center': 'mean_temp'}>],\n",
       "       [<Axes: title={'center': 'min_temp'}>,\n",
       "        <Axes: title={'center': 'max_temp'}>],\n",
       "       [<Axes: title={'center': 'mosquito_Indicator'}>, <Axes: >]],\n",
       "      dtype=object)"
      ]
     },
     "execution_count": 28,
     "metadata": {},
     "output_type": "execute_result"
    },
    {
     "data": {
      "image/png": "[encoded data removed]",
      "text/plain": [
       "<Figure size 1200x1000 with 6 Axes>"
      ]
     },
     "metadata": {},
     "output_type": "display_data"
    }
   ],
   "source": [
    "# 컬럼 별 데이터 분포 시각화\n",
    "pre_m_df.hist(figsize=(12, 10))"
   ]
  },
  {
   "cell_type": "code",
   "execution_count": 29,
   "id": "0e1a0772-7c7d-4aef-81c2-f830402eab9e",
   "metadata": {},
   "outputs": [
    {
     "data": {
      "text/html": [
       "<div>\n",
       "<style scoped>\n",
       "    .dataframe tbody tr th:only-of-type {\n",
       "        vertical-align: middle;\n",
       "    }\n",
       "\n",
       "    .dataframe tbody tr th {\n",
       "        vertical-align: top;\n",
       "    }\n",
       "\n",
       "    .dataframe thead th {\n",
       "        text-align: right;\n",
       "    }\n",
       "</style>\n",
       "<table border=\"1\" class=\"dataframe\">\n",
       "  <thead>\n",
       "    <tr style=\"text-align: right;\">\n",
       "      <th></th>\n",
       "      <th>rain</th>\n",
       "      <th>mean_temp</th>\n",
       "      <th>min_temp</th>\n",
       "      <th>max_temp</th>\n",
       "      <th>mosquito_Indicator</th>\n",
       "    </tr>\n",
       "  </thead>\n",
       "  <tbody>\n",
       "    <tr>\n",
       "      <th>0</th>\n",
       "      <td>0.0</td>\n",
       "      <td>18.8</td>\n",
       "      <td>12.2</td>\n",
       "      <td>26.0</td>\n",
       "      <td>254.4</td>\n",
       "    </tr>\n",
       "    <tr>\n",
       "      <th>1</th>\n",
       "      <td>16.5</td>\n",
       "      <td>21.1</td>\n",
       "      <td>16.5</td>\n",
       "      <td>28.4</td>\n",
       "      <td>273.5</td>\n",
       "    </tr>\n",
       "    <tr>\n",
       "      <th>2</th>\n",
       "      <td>27.0</td>\n",
       "      <td>12.9</td>\n",
       "      <td>8.9</td>\n",
       "      <td>17.6</td>\n",
       "      <td>304.0</td>\n",
       "    </tr>\n",
       "    <tr>\n",
       "      <th>3</th>\n",
       "      <td>0.0</td>\n",
       "      <td>15.7</td>\n",
       "      <td>10.2</td>\n",
       "      <td>20.6</td>\n",
       "      <td>256.2</td>\n",
       "    </tr>\n",
       "    <tr>\n",
       "      <th>4</th>\n",
       "      <td>7.5</td>\n",
       "      <td>18.9</td>\n",
       "      <td>10.2</td>\n",
       "      <td>26.9</td>\n",
       "      <td>243.8</td>\n",
       "    </tr>\n",
       "    <tr>\n",
       "      <th>...</th>\n",
       "      <td>...</td>\n",
       "      <td>...</td>\n",
       "      <td>...</td>\n",
       "      <td>...</td>\n",
       "      <td>...</td>\n",
       "    </tr>\n",
       "    <tr>\n",
       "      <th>1290</th>\n",
       "      <td>0.0</td>\n",
       "      <td>-1.7</td>\n",
       "      <td>-4.6</td>\n",
       "      <td>2.6</td>\n",
       "      <td>5.5</td>\n",
       "    </tr>\n",
       "    <tr>\n",
       "      <th>1291</th>\n",
       "      <td>0.0</td>\n",
       "      <td>1.1</td>\n",
       "      <td>-3.6</td>\n",
       "      <td>6.1</td>\n",
       "      <td>5.5</td>\n",
       "    </tr>\n",
       "    <tr>\n",
       "      <th>1292</th>\n",
       "      <td>1.4</td>\n",
       "      <td>3.8</td>\n",
       "      <td>1.1</td>\n",
       "      <td>6.2</td>\n",
       "      <td>5.5</td>\n",
       "    </tr>\n",
       "    <tr>\n",
       "      <th>1293</th>\n",
       "      <td>0.4</td>\n",
       "      <td>2.7</td>\n",
       "      <td>-5.7</td>\n",
       "      <td>6.8</td>\n",
       "      <td>5.5</td>\n",
       "    </tr>\n",
       "    <tr>\n",
       "      <th>1294</th>\n",
       "      <td>0.0</td>\n",
       "      <td>-7.9</td>\n",
       "      <td>-10.9</td>\n",
       "      <td>-4.5</td>\n",
       "      <td>5.5</td>\n",
       "    </tr>\n",
       "  </tbody>\n",
       "</table>\n",
       "<p>1295 rows × 5 columns</p>\n",
       "</div>"
      ],
      "text/plain": [
       "      rain  mean_temp  min_temp  max_temp  mosquito_Indicator\n",
       "0      0.0       18.8      12.2      26.0               254.4\n",
       "1     16.5       21.1      16.5      28.4               273.5\n",
       "2     27.0       12.9       8.9      17.6               304.0\n",
       "3      0.0       15.7      10.2      20.6               256.2\n",
       "4      7.5       18.9      10.2      26.9               243.8\n",
       "...    ...        ...       ...       ...                 ...\n",
       "1290   0.0       -1.7      -4.6       2.6                 5.5\n",
       "1291   0.0        1.1      -3.6       6.1                 5.5\n",
       "1292   1.4        3.8       1.1       6.2                 5.5\n",
       "1293   0.4        2.7      -5.7       6.8                 5.5\n",
       "1294   0.0       -7.9     -10.9      -4.5                 5.5\n",
       "\n",
       "[1295 rows x 5 columns]"
      ]
     },
     "execution_count": 29,
     "metadata": {},
     "output_type": "execute_result"
    }
   ],
   "source": [
    "# 상관관계 출력에 불필요한 날짜 컬럼 제거\n",
    "pre_m_df = pre_m_df.iloc[:, 1:]\n",
    "pre_m_df"
   ]
  },
  {
   "cell_type": "code",
   "execution_count": 30,
   "id": "74ac1517-b863-46ff-9ea7-b9e2e33ac0fa",
   "metadata": {},
   "outputs": [
    {
     "name": "stdout",
     "output_type": "stream",
     "text": [
      "<class 'pandas.core.frame.DataFrame'>\n",
      "RangeIndex: 1295 entries, 0 to 1294\n",
      "Data columns (total 5 columns):\n",
      " #   Column              Non-Null Count  Dtype  \n",
      "---  ------              --------------  -----  \n",
      " 0   rain                1295 non-null   float64\n",
      " 1   mean_temp           1295 non-null   float64\n",
      " 2   min_temp            1295 non-null   float64\n",
      " 3   max_temp            1295 non-null   float64\n",
      " 4   mosquito_Indicator  1295 non-null   float64\n",
      "dtypes: float64(5)\n",
      "memory usage: 50.7 KB\n"
     ]
    }
   ],
   "source": [
    "pre_m_df.info()"
   ]
  },
  {
   "cell_type": "code",
   "execution_count": 31,
   "id": "c3f85355-4e86-4dcb-9c38-95334e978f1a",
   "metadata": {},
   "outputs": [
    {
     "data": {
      "text/plain": [
       "min_temp     0.743387\n",
       "mean_temp    0.728177\n",
       "max_temp     0.698576\n",
       "rain         0.186194\n",
       "Name: mosquito_Indicator, dtype: float64"
      ]
     },
     "execution_count": 31,
     "metadata": {},
     "output_type": "execute_result"
    }
   ],
   "source": [
    "# target과의 상관관계 출력\n",
    "pre_m_df.corr()['mosquito_Indicator'].sort_values(ascending=False)[1:]"
   ]
  },
  {
   "cell_type": "code",
   "execution_count": 33,
   "id": "131100ce-5fa0-428e-a8f2-0d853b792b54",
   "metadata": {},
   "outputs": [
    {
     "data": {
      "image/png": "[encoded data removed]",
      "text/plain": [
       "<Figure size 640x480 with 2 Axes>"
      ]
     },
     "metadata": {},
     "output_type": "display_data"
    }
   ],
   "source": [
    "import seaborn as sns\n",
    "# feature 간 상관관계 시각화\n",
    "sns.heatmap(pre_m_df.iloc[:, :-1].corr())\n",
    "plt.show()"
   ]
  },
  {
   "cell_type": "code",
   "execution_count": 34,
   "id": "95f0f265-49cb-4d41-b06c-49306ea54e45",
   "metadata": {},
   "outputs": [
    {
     "data": {
      "text/html": [
       "<div>\n",
       "<style scoped>\n",
       "    .dataframe tbody tr th:only-of-type {\n",
       "        vertical-align: middle;\n",
       "    }\n",
       "\n",
       "    .dataframe tbody tr th {\n",
       "        vertical-align: top;\n",
       "    }\n",
       "\n",
       "    .dataframe thead th {\n",
       "        text-align: right;\n",
       "    }\n",
       "</style>\n",
       "<table border=\"1\" class=\"dataframe\">\n",
       "  <thead>\n",
       "    <tr style=\"text-align: right;\">\n",
       "      <th></th>\n",
       "      <th>rain</th>\n",
       "      <th>mean_temp</th>\n",
       "      <th>min_temp</th>\n",
       "      <th>max_temp</th>\n",
       "    </tr>\n",
       "  </thead>\n",
       "  <tbody>\n",
       "    <tr>\n",
       "      <th>rain</th>\n",
       "      <td>1.000000</td>\n",
       "      <td>0.144857</td>\n",
       "      <td>0.186602</td>\n",
       "      <td>0.099130</td>\n",
       "    </tr>\n",
       "    <tr>\n",
       "      <th>mean_temp</th>\n",
       "      <td>0.144857</td>\n",
       "      <td>1.000000</td>\n",
       "      <td>0.990115</td>\n",
       "      <td>0.989594</td>\n",
       "    </tr>\n",
       "    <tr>\n",
       "      <th>min_temp</th>\n",
       "      <td>0.186602</td>\n",
       "      <td>0.990115</td>\n",
       "      <td>1.000000</td>\n",
       "      <td>0.964792</td>\n",
       "    </tr>\n",
       "    <tr>\n",
       "      <th>max_temp</th>\n",
       "      <td>0.099130</td>\n",
       "      <td>0.989594</td>\n",
       "      <td>0.964792</td>\n",
       "      <td>1.000000</td>\n",
       "    </tr>\n",
       "  </tbody>\n",
       "</table>\n",
       "</div>"
      ],
      "text/plain": [
       "               rain  mean_temp  min_temp  max_temp\n",
       "rain       1.000000   0.144857  0.186602  0.099130\n",
       "mean_temp  0.144857   1.000000  0.990115  0.989594\n",
       "min_temp   0.186602   0.990115  1.000000  0.964792\n",
       "max_temp   0.099130   0.989594  0.964792  1.000000"
      ]
     },
     "execution_count": 34,
     "metadata": {},
     "output_type": "execute_result"
    }
   ],
   "source": [
    "pre_m_df.iloc[:, :-1].corr()"
   ]
  },
  {
   "cell_type": "markdown",
   "id": "ecf33a62-8170-4a3b-9ade-11264fd88f70",
   "metadata": {},
   "source": [
    "#### 중간 분석\n",
    "- 현재 온도 컬럼들 사이에 매우 강한 상관관계 존재\n",
    "- 이번 사이클에서는 target과의 상관관계가 가장 높은 min_temp 유지\n",
    "- 결과가 좋지 않으면 Feature Engineering 고려"
   ]
  },
  {
   "cell_type": "code",
   "execution_count": 35,
   "id": "e2961035-edca-4456-b91a-9dcacd35c083",
   "metadata": {},
   "outputs": [
    {
     "data": {
      "text/html": [
       "<div>\n",
       "<style scoped>\n",
       "    .dataframe tbody tr th:only-of-type {\n",
       "        vertical-align: middle;\n",
       "    }\n",
       "\n",
       "    .dataframe tbody tr th {\n",
       "        vertical-align: top;\n",
       "    }\n",
       "\n",
       "    .dataframe thead th {\n",
       "        text-align: right;\n",
       "    }\n",
       "</style>\n",
       "<table border=\"1\" class=\"dataframe\">\n",
       "  <thead>\n",
       "    <tr style=\"text-align: right;\">\n",
       "      <th></th>\n",
       "      <th>rain</th>\n",
       "      <th>min_temp</th>\n",
       "      <th>mosquito_Indicator</th>\n",
       "    </tr>\n",
       "  </thead>\n",
       "  <tbody>\n",
       "    <tr>\n",
       "      <th>0</th>\n",
       "      <td>0.0</td>\n",
       "      <td>12.2</td>\n",
       "      <td>254.4</td>\n",
       "    </tr>\n",
       "    <tr>\n",
       "      <th>1</th>\n",
       "      <td>16.5</td>\n",
       "      <td>16.5</td>\n",
       "      <td>273.5</td>\n",
       "    </tr>\n",
       "    <tr>\n",
       "      <th>2</th>\n",
       "      <td>27.0</td>\n",
       "      <td>8.9</td>\n",
       "      <td>304.0</td>\n",
       "    </tr>\n",
       "    <tr>\n",
       "      <th>3</th>\n",
       "      <td>0.0</td>\n",
       "      <td>10.2</td>\n",
       "      <td>256.2</td>\n",
       "    </tr>\n",
       "    <tr>\n",
       "      <th>4</th>\n",
       "      <td>7.5</td>\n",
       "      <td>10.2</td>\n",
       "      <td>243.8</td>\n",
       "    </tr>\n",
       "    <tr>\n",
       "      <th>...</th>\n",
       "      <td>...</td>\n",
       "      <td>...</td>\n",
       "      <td>...</td>\n",
       "    </tr>\n",
       "    <tr>\n",
       "      <th>1290</th>\n",
       "      <td>0.0</td>\n",
       "      <td>-4.6</td>\n",
       "      <td>5.5</td>\n",
       "    </tr>\n",
       "    <tr>\n",
       "      <th>1291</th>\n",
       "      <td>0.0</td>\n",
       "      <td>-3.6</td>\n",
       "      <td>5.5</td>\n",
       "    </tr>\n",
       "    <tr>\n",
       "      <th>1292</th>\n",
       "      <td>1.4</td>\n",
       "      <td>1.1</td>\n",
       "      <td>5.5</td>\n",
       "    </tr>\n",
       "    <tr>\n",
       "      <th>1293</th>\n",
       "      <td>0.4</td>\n",
       "      <td>-5.7</td>\n",
       "      <td>5.5</td>\n",
       "    </tr>\n",
       "    <tr>\n",
       "      <th>1294</th>\n",
       "      <td>0.0</td>\n",
       "      <td>-10.9</td>\n",
       "      <td>5.5</td>\n",
       "    </tr>\n",
       "  </tbody>\n",
       "</table>\n",
       "<p>1295 rows × 3 columns</p>\n",
       "</div>"
      ],
      "text/plain": [
       "      rain  min_temp  mosquito_Indicator\n",
       "0      0.0      12.2               254.4\n",
       "1     16.5      16.5               273.5\n",
       "2     27.0       8.9               304.0\n",
       "3      0.0      10.2               256.2\n",
       "4      7.5      10.2               243.8\n",
       "...    ...       ...                 ...\n",
       "1290   0.0      -4.6                 5.5\n",
       "1291   0.0      -3.6                 5.5\n",
       "1292   1.4       1.1                 5.5\n",
       "1293   0.4      -5.7                 5.5\n",
       "1294   0.0     -10.9                 5.5\n",
       "\n",
       "[1295 rows x 3 columns]"
      ]
     },
     "execution_count": 35,
     "metadata": {},
     "output_type": "execute_result"
    }
   ],
   "source": [
    "pre_m_df = pre_m_df.drop(labels=['mean_temp', 'max_temp'], axis=1)\n",
    "pre_m_df"
   ]
  },
  {
   "cell_type": "code",
   "execution_count": 36,
   "id": "b890f8c0-5421-4a7b-a375-d2679457ef2b",
   "metadata": {},
   "outputs": [
    {
     "data": {
      "text/plain": [
       "min_temp    0.743387\n",
       "rain        0.186194\n",
       "Name: mosquito_Indicator, dtype: float64"
      ]
     },
     "execution_count": 36,
     "metadata": {},
     "output_type": "execute_result"
    }
   ],
   "source": [
    "# target과의 상관관계 출력\n",
    "pre_m_df.corr()['mosquito_Indicator'].sort_values(ascending=False)[1:]"
   ]
  },
  {
   "cell_type": "code",
   "execution_count": 37,
   "id": "7bc1edc6-9fb0-4b60-b099-f8892e44031d",
   "metadata": {},
   "outputs": [
    {
     "data": {
      "image/png": "[encoded data removed]",
      "text/plain": [
       "<Figure size 640x480 with 2 Axes>"
      ]
     },
     "metadata": {},
     "output_type": "display_data"
    }
   ],
   "source": [
    "import seaborn as sns\n",
    "# feature 간 상관관계 시각화\n",
    "sns.heatmap(pre_m_df.iloc[:, :-1].corr())\n",
    "plt.show()"
   ]
  },
  {
   "cell_type": "code",
   "execution_count": 38,
   "id": "dca66550-c627-4d11-8c47-53db3fc4ec7c",
   "metadata": {},
   "outputs": [
    {
     "data": {
      "text/html": [
       "<div>\n",
       "<style scoped>\n",
       "    .dataframe tbody tr th:only-of-type {\n",
       "        vertical-align: middle;\n",
       "    }\n",
       "\n",
       "    .dataframe tbody tr th {\n",
       "        vertical-align: top;\n",
       "    }\n",
       "\n",
       "    .dataframe thead th {\n",
       "        text-align: right;\n",
       "    }\n",
       "</style>\n",
       "<table border=\"1\" class=\"dataframe\">\n",
       "  <thead>\n",
       "    <tr style=\"text-align: right;\">\n",
       "      <th></th>\n",
       "      <th>rain</th>\n",
       "      <th>min_temp</th>\n",
       "    </tr>\n",
       "  </thead>\n",
       "  <tbody>\n",
       "    <tr>\n",
       "      <th>rain</th>\n",
       "      <td>1.000000</td>\n",
       "      <td>0.186602</td>\n",
       "    </tr>\n",
       "    <tr>\n",
       "      <th>min_temp</th>\n",
       "      <td>0.186602</td>\n",
       "      <td>1.000000</td>\n",
       "    </tr>\n",
       "  </tbody>\n",
       "</table>\n",
       "</div>"
      ],
      "text/plain": [
       "              rain  min_temp\n",
       "rain      1.000000  0.186602\n",
       "min_temp  0.186602  1.000000"
      ]
     },
     "execution_count": 38,
     "metadata": {},
     "output_type": "execute_result"
    }
   ],
   "source": [
    "pre_m_df.iloc[:, :-1].corr()"
   ]
  },
  {
   "cell_type": "code",
   "execution_count": 40,
   "id": "0954abc4-1a11-48d7-84a4-8d2754a9bc88",
   "metadata": {},
   "outputs": [
    {
     "name": "stdout",
     "output_type": "stream",
     "text": [
      "                                 OLS Regression Results                                \n",
      "=======================================================================================\n",
      "Dep. Variable:     mosquito_Indicator   R-squared (uncentered):                   0.731\n",
      "Model:                            OLS   Adj. R-squared (uncentered):              0.730\n",
      "Method:                 Least Squares   F-statistic:                              1755.\n",
      "Date:                Mon, 29 Apr 2024   Prob (F-statistic):                        0.00\n",
      "Time:                        14:22:56   Log-Likelihood:                         -8700.0\n",
      "No. Observations:                1295   AIC:                                  1.740e+04\n",
      "Df Residuals:                    1293   BIC:                                  1.741e+04\n",
      "Df Model:                           2                                                  \n",
      "Covariance Type:            nonrobust                                                  \n",
      "==============================================================================\n",
      "                 coef    std err          t      P>|t|      [0.025      0.975]\n",
      "------------------------------------------------------------------------------\n",
      "rain           1.4025      0.460      3.052      0.002       0.501       2.304\n",
      "min_temp      21.7130      0.392     55.435      0.000      20.945      22.481\n",
      "==============================================================================\n",
      "Omnibus:                        9.015   Durbin-Watson:                   0.194\n",
      "Prob(Omnibus):                  0.011   Jarque-Bera (JB):               11.939\n",
      "Skew:                          -0.059   Prob(JB):                      0.00256\n",
      "Kurtosis:                       3.455   Cond. No.                         1.42\n",
      "==============================================================================\n",
      "\n",
      "Notes:\n",
      "[1] R² is computed without centering (uncentered) since the model does not contain a constant.\n",
      "[2] Standard Errors assume that the covariance matrix of the errors is correctly specified.\n"
     ]
    }
   ],
   "source": [
    "from statsmodels.api import OLS\n",
    "\n",
    "# 일단 추가 조정 없이 OLS 평가\n",
    "features, targets = pre_m_df.iloc[:, :-1], pre_m_df.iloc[:, -1]\n",
    "\n",
    "model = OLS(targets, features)\n",
    "print(model.fit().summary())"
   ]
  },
  {
   "cell_type": "markdown",
   "id": "b545b49f-c92a-4e1a-b97c-ad7c235a89ef",
   "metadata": {},
   "source": [
    "#### OLS 출력 결과\n",
    "- Durbin-Watson에서 매우 낮은 점수를 보임"
   ]
  },
  {
   "cell_type": "code",
   "execution_count": 41,
   "id": "641e7281-cb51-4ba9-8b6d-56065537b02e",
   "metadata": {},
   "outputs": [],
   "source": [
    "from statsmodels.stats.outliers_influence import variance_inflation_factor\n",
    "\n",
    "def get_vif(features):\n",
    "    vif = pd.DataFrame()\n",
    "    vif['vif_score'] = [variance_inflation_factor(features.values, i) for i in range(features.shape[1])]\n",
    "    vif['feature'] = features.columns\n",
    "    return vif"
   ]
  },
  {
   "cell_type": "code",
   "execution_count": 42,
   "id": "4a197618-9e56-476c-8f60-f53e95321bd9",
   "metadata": {},
   "outputs": [
    {
     "data": {
      "text/html": [
       "<div>\n",
       "<style scoped>\n",
       "    .dataframe tbody tr th:only-of-type {\n",
       "        vertical-align: middle;\n",
       "    }\n",
       "\n",
       "    .dataframe tbody tr th {\n",
       "        vertical-align: top;\n",
       "    }\n",
       "\n",
       "    .dataframe thead th {\n",
       "        text-align: right;\n",
       "    }\n",
       "</style>\n",
       "<table border=\"1\" class=\"dataframe\">\n",
       "  <thead>\n",
       "    <tr style=\"text-align: right;\">\n",
       "      <th></th>\n",
       "      <th>vif_score</th>\n",
       "      <th>feature</th>\n",
       "    </tr>\n",
       "  </thead>\n",
       "  <tbody>\n",
       "    <tr>\n",
       "      <th>0</th>\n",
       "      <td>1.10203</td>\n",
       "      <td>rain</td>\n",
       "    </tr>\n",
       "    <tr>\n",
       "      <th>1</th>\n",
       "      <td>1.10203</td>\n",
       "      <td>min_temp</td>\n",
       "    </tr>\n",
       "  </tbody>\n",
       "</table>\n",
       "</div>"
      ],
      "text/plain": [
       "   vif_score   feature\n",
       "0    1.10203      rain\n",
       "1    1.10203  min_temp"
      ]
     },
     "execution_count": 42,
     "metadata": {},
     "output_type": "execute_result"
    }
   ],
   "source": [
    "# feature 별 VIF Score 출력\n",
    "get_vif(features)"
   ]
  },
  {
   "cell_type": "markdown",
   "id": "8f808672-c64c-4373-929e-520e04d4c17f",
   "metadata": {},
   "source": [
    "#### VIF Score 출력 결과\n",
    "- 이상이 발견되지는 않지만, feature가 2개 뿐이라는 점을 감안할 것"
   ]
  },
  {
   "cell_type": "code",
   "execution_count": 58,
   "id": "29297366-6975-4031-a9ef-316d8a274b3e",
   "metadata": {},
   "outputs": [],
   "source": [
    "import numpy as np\n",
    "from sklearn.metrics import mean_squared_log_error, mean_squared_error, r2_score\n",
    "\n",
    "def get_evaluation(y_test, prediction):\n",
    "    MSE = mean_squared_error(y_test, prediction)\n",
    "    RMSE = np.sqrt(MSE)\n",
    "    # MSLE = mean_squared_log_error(y_test, prediction)\n",
    "    # RMSLE = np.sqrt(mean_squared_log_error(y_test, prediction))\n",
    "    R2 = r2_score(y_test, prediction)\n",
    "    print('MSE: {:.4f}, RMSE: {:.4f}, R2: {:.4f}'\\\n",
    "          .format(MSE, RMSE, R2))"
   ]
  },
  {
   "cell_type": "markdown",
   "id": "f4b02c6b-6524-4408-8e41-372465a62e71",
   "metadata": {},
   "source": [
    "#### 선형 회귀 모델로 테스트"
   ]
  },
  {
   "cell_type": "code",
   "execution_count": 46,
   "id": "5136cfff-fe30-43c4-b995-e43b694b5e96",
   "metadata": {},
   "outputs": [
    {
     "data": {
      "text/html": [
       "<style>#sk-container-id-1 {color: black;background-color: white;}#sk-container-id-1 pre{padding: 0;}#sk-container-id-1 div.sk-toggleable {background-color: white;}#sk-container-id-1 label.sk-toggleable__label {cursor: pointer;display: block;width: 100%;margin-bottom: 0;padding: 0.3em;box-sizing: border-box;text-align: center;}#sk-container-id-1 label.sk-toggleable__label-arrow:before {content: \"▸\";float: left;margin-right: 0.25em;color: #696969;}#sk-container-id-1 label.sk-toggleable__label-arrow:hover:before {color: black;}#sk-container-id-1 div.sk-estimator:hover label.sk-toggleable__label-arrow:before {color: black;}#sk-container-id-1 div.sk-toggleable__content {max-height: 0;max-width: 0;overflow: hidden;text-align: left;background-color: #f0f8ff;}#sk-container-id-1 div.sk-toggleable__content pre {margin: 0.2em;color: black;border-radius: 0.25em;background-color: #f0f8ff;}#sk-container-id-1 input.sk-toggleable__control:checked~div.sk-toggleable__content {max-height: 200px;max-width: 100%;overflow: auto;}#sk-container-id-1 input.sk-toggleable__control:checked~label.sk-toggleable__label-arrow:before {content: \"▾\";}#sk-container-id-1 div.sk-estimator input.sk-toggleable__control:checked~label.sk-toggleable__label {background-color: #d4ebff;}#sk-container-id-1 div.sk-label input.sk-toggleable__control:checked~label.sk-toggleable__label {background-color: #d4ebff;}#sk-container-id-1 input.sk-hidden--visually {border: 0;clip: rect(1px 1px 1px 1px);clip: rect(1px, 1px, 1px, 1px);height: 1px;margin: -1px;overflow: hidden;padding: 0;position: absolute;width: 1px;}#sk-container-id-1 div.sk-estimator {font-family: monospace;background-color: #f0f8ff;border: 1px dotted black;border-radius: 0.25em;box-sizing: border-box;margin-bottom: 0.5em;}#sk-container-id-1 div.sk-estimator:hover {background-color: #d4ebff;}#sk-container-id-1 div.sk-parallel-item::after {content: \"\";width: 100%;border-bottom: 1px solid gray;flex-grow: 1;}#sk-container-id-1 div.sk-label:hover label.sk-toggleable__label {background-color: #d4ebff;}#sk-container-id-1 div.sk-serial::before {content: \"\";position: absolute;border-left: 1px solid gray;box-sizing: border-box;top: 0;bottom: 0;left: 50%;z-index: 0;}#sk-container-id-1 div.sk-serial {display: flex;flex-direction: column;align-items: center;background-color: white;padding-right: 0.2em;padding-left: 0.2em;position: relative;}#sk-container-id-1 div.sk-item {position: relative;z-index: 1;}#sk-container-id-1 div.sk-parallel {display: flex;align-items: stretch;justify-content: center;background-color: white;position: relative;}#sk-container-id-1 div.sk-item::before, #sk-container-id-1 div.sk-parallel-item::before {content: \"\";position: absolute;border-left: 1px solid gray;box-sizing: border-box;top: 0;bottom: 0;left: 50%;z-index: -1;}#sk-container-id-1 div.sk-parallel-item {display: flex;flex-direction: column;z-index: 1;position: relative;background-color: white;}#sk-container-id-1 div.sk-parallel-item:first-child::after {align-self: flex-end;width: 50%;}#sk-container-id-1 div.sk-parallel-item:last-child::after {align-self: flex-start;width: 50%;}#sk-container-id-1 div.sk-parallel-item:only-child::after {width: 0;}#sk-container-id-1 div.sk-dashed-wrapped {border: 1px dashed gray;margin: 0 0.4em 0.5em 0.4em;box-sizing: border-box;padding-bottom: 0.4em;background-color: white;}#sk-container-id-1 div.sk-label label {font-family: monospace;font-weight: bold;display: inline-block;line-height: 1.2em;}#sk-container-id-1 div.sk-label-container {text-align: center;}#sk-container-id-1 div.sk-container {/* jupyter's `normalize.less` sets `[hidden] { display: none; }` but bootstrap.min.css set `[hidden] { display: none !important; }` so we also need the `!important` here to be able to override the default hidden behavior on the sphinx rendered scikit-learn.org. See: https://github.com/scikit-learn/scikit-learn/issues/21755 */display: inline-block !important;position: relative;}#sk-container-id-1 div.sk-text-repr-fallback {display: none;}</style><div id=\"sk-container-id-1\" class=\"sk-top-container\"><div class=\"sk-text-repr-fallback\"><pre>LinearRegression()</pre><b>In a Jupyter environment, please rerun this cell to show the HTML representation or trust the notebook. <br />On GitHub, the HTML representation is unable to render, please try loading this page with nbviewer.org.</b></div><div class=\"sk-container\" hidden><div class=\"sk-item\"><div class=\"sk-estimator sk-toggleable\"><input class=\"sk-toggleable__control sk-hidden--visually\" id=\"sk-estimator-id-1\" type=\"checkbox\" checked><label for=\"sk-estimator-id-1\" class=\"sk-toggleable__label sk-toggleable__label-arrow\">LinearRegression</label><div class=\"sk-toggleable__content\"><pre>LinearRegression()</pre></div></div></div></div></div>"
      ],
      "text/plain": [
       "LinearRegression()"
      ]
     },
     "execution_count": 46,
     "metadata": {},
     "output_type": "execute_result"
    }
   ],
   "source": [
    "from sklearn.model_selection import train_test_split\n",
    "from sklearn.linear_model import LinearRegression\n",
    "\n",
    "features, targets = pre_m_df.iloc[:, :-1], pre_m_df.iloc[:, -1]\n",
    "\n",
    "X_train, X_test, y_train, y_test = \\\n",
    "train_test_split(features, targets, test_size=0.2, random_state=124)\n",
    "\n",
    "l_r = LinearRegression()\n",
    "l_r.fit(X_train, y_train)"
   ]
  },
  {
   "cell_type": "code",
   "execution_count": 49,
   "id": "c31f9012-1afc-4104-bf4a-2fae75f5e097",
   "metadata": {},
   "outputs": [
    {
     "name": "stdout",
     "output_type": "stream",
     "text": [
      "MSE: 44833.9891, RMSE: 211.7404, R2: 0.5474\n"
     ]
    }
   ],
   "source": [
    "# 선형 회귀모델 평가\n",
    "prediction = l_r.predict(X_test)\n",
    "get_evaluation(y_test, prediction)"
   ]
  },
  {
   "cell_type": "markdown",
   "id": "b77b6d42-73f6-4286-a277-5949974776c1",
   "metadata": {},
   "source": [
    "#### 선형회귀 모델 학습 결과\n",
    "- 현재 Target에 0 또는 음수 값 존재\n",
    "- 따라서 yeo-Johnson 방식으로 target 데이터 가공\n",
    "- 또한 R2 점수가 상당히 높게 측정. 이는 단순히 데이터가 선형이라 볼 수도 있지만,  \n",
    "  비선형 데이터임에도 전처리 과정이 잘못되었다고 생각할 수도 있음"
   ]
  },
  {
   "cell_type": "code",
   "execution_count": 39,
   "id": "68e9fcf9-39c8-437c-96d0-8642ca912976",
   "metadata": {},
   "outputs": [
    {
     "data": {
      "text/plain": [
       "<Axes: >"
      ]
     },
     "execution_count": 39,
     "metadata": {},
     "output_type": "execute_result"
    },
    {
     "data": {
      "image/png": "[encoded data removed]",
      "text/plain": [
       "<Figure size 640x480 with 1 Axes>"
      ]
     },
     "metadata": {},
     "output_type": "display_data"
    }
   ],
   "source": [
    "# target 분포의 첨도 조정 - np.log1p\n",
    "np.log1p(pre_m_df['mosquito_Indicator']).hist()"
   ]
  },
  {
   "cell_type": "markdown",
   "id": "b90d8567-a672-4884-b42a-6f235c824c66",
   "metadata": {},
   "source": [
    "#### 중간 분석\n",
    "- log 사용 후에도 target의 분포 문제가 해결되지 않음\n",
    "- 따라서 PowerTransform 적용 후 다시 평가"
   ]
  },
  {
   "cell_type": "code",
   "execution_count": 50,
   "id": "99fd0ba2-a983-4c7e-9ef6-4d7b2097e9fa",
   "metadata": {},
   "outputs": [
    {
     "data": {
      "text/html": [
       "<div>\n",
       "<style scoped>\n",
       "    .dataframe tbody tr th:only-of-type {\n",
       "        vertical-align: middle;\n",
       "    }\n",
       "\n",
       "    .dataframe tbody tr th {\n",
       "        vertical-align: top;\n",
       "    }\n",
       "\n",
       "    .dataframe thead th {\n",
       "        text-align: right;\n",
       "    }\n",
       "</style>\n",
       "<table border=\"1\" class=\"dataframe\">\n",
       "  <thead>\n",
       "    <tr style=\"text-align: right;\">\n",
       "      <th></th>\n",
       "      <th>rain</th>\n",
       "      <th>min_temp</th>\n",
       "      <th>mosquito_Indicator</th>\n",
       "      <th>Target_yeo</th>\n",
       "    </tr>\n",
       "  </thead>\n",
       "  <tbody>\n",
       "    <tr>\n",
       "      <th>0</th>\n",
       "      <td>0.0</td>\n",
       "      <td>12.2</td>\n",
       "      <td>254.4</td>\n",
       "      <td>6.571413</td>\n",
       "    </tr>\n",
       "    <tr>\n",
       "      <th>1</th>\n",
       "      <td>16.5</td>\n",
       "      <td>16.5</td>\n",
       "      <td>273.5</td>\n",
       "      <td>6.672078</td>\n",
       "    </tr>\n",
       "    <tr>\n",
       "      <th>2</th>\n",
       "      <td>27.0</td>\n",
       "      <td>8.9</td>\n",
       "      <td>304.0</td>\n",
       "      <td>6.819922</td>\n",
       "    </tr>\n",
       "    <tr>\n",
       "      <th>3</th>\n",
       "      <td>0.0</td>\n",
       "      <td>10.2</td>\n",
       "      <td>256.2</td>\n",
       "      <td>6.581196</td>\n",
       "    </tr>\n",
       "    <tr>\n",
       "      <th>4</th>\n",
       "      <td>7.5</td>\n",
       "      <td>10.2</td>\n",
       "      <td>243.8</td>\n",
       "      <td>6.512448</td>\n",
       "    </tr>\n",
       "    <tr>\n",
       "      <th>...</th>\n",
       "      <td>...</td>\n",
       "      <td>...</td>\n",
       "      <td>...</td>\n",
       "      <td>...</td>\n",
       "    </tr>\n",
       "    <tr>\n",
       "      <th>1290</th>\n",
       "      <td>0.0</td>\n",
       "      <td>-4.6</td>\n",
       "      <td>5.5</td>\n",
       "      <td>1.980530</td>\n",
       "    </tr>\n",
       "    <tr>\n",
       "      <th>1291</th>\n",
       "      <td>0.0</td>\n",
       "      <td>-3.6</td>\n",
       "      <td>5.5</td>\n",
       "      <td>1.980530</td>\n",
       "    </tr>\n",
       "    <tr>\n",
       "      <th>1292</th>\n",
       "      <td>1.4</td>\n",
       "      <td>1.1</td>\n",
       "      <td>5.5</td>\n",
       "      <td>1.980530</td>\n",
       "    </tr>\n",
       "    <tr>\n",
       "      <th>1293</th>\n",
       "      <td>0.4</td>\n",
       "      <td>-5.7</td>\n",
       "      <td>5.5</td>\n",
       "      <td>1.980530</td>\n",
       "    </tr>\n",
       "    <tr>\n",
       "      <th>1294</th>\n",
       "      <td>0.0</td>\n",
       "      <td>-10.9</td>\n",
       "      <td>5.5</td>\n",
       "      <td>1.980530</td>\n",
       "    </tr>\n",
       "  </tbody>\n",
       "</table>\n",
       "<p>1295 rows × 4 columns</p>\n",
       "</div>"
      ],
      "text/plain": [
       "      rain  min_temp  mosquito_Indicator  Target_yeo\n",
       "0      0.0      12.2               254.4    6.571413\n",
       "1     16.5      16.5               273.5    6.672078\n",
       "2     27.0       8.9               304.0    6.819922\n",
       "3      0.0      10.2               256.2    6.581196\n",
       "4      7.5      10.2               243.8    6.512448\n",
       "...    ...       ...                 ...         ...\n",
       "1290   0.0      -4.6                 5.5    1.980530\n",
       "1291   0.0      -3.6                 5.5    1.980530\n",
       "1292   1.4       1.1                 5.5    1.980530\n",
       "1293   0.4      -5.7                 5.5    1.980530\n",
       "1294   0.0     -10.9                 5.5    1.980530\n",
       "\n",
       "[1295 rows x 4 columns]"
      ]
     },
     "execution_count": 50,
     "metadata": {},
     "output_type": "execute_result"
    }
   ],
   "source": [
    "from sklearn.preprocessing import PowerTransformer\n",
    "\n",
    "# yeo-Johnson 방식으로 target 데이터를 가공한 새로운 컬럼 추가\n",
    "ptf = PowerTransformer(standardize=False)\n",
    "result = ptf.fit_transform(pre_m_df[['mosquito_Indicator']])\n",
    "pre_m_df['Target_yeo'] = result\n",
    "pre_m_df"
   ]
  },
  {
   "cell_type": "code",
   "execution_count": 52,
   "id": "0c01e31d-d2dc-46b7-96d6-35ceedfaa548",
   "metadata": {},
   "outputs": [
    {
     "data": {
      "text/html": [
       "<div>\n",
       "<style scoped>\n",
       "    .dataframe tbody tr th:only-of-type {\n",
       "        vertical-align: middle;\n",
       "    }\n",
       "\n",
       "    .dataframe tbody tr th {\n",
       "        vertical-align: top;\n",
       "    }\n",
       "\n",
       "    .dataframe thead th {\n",
       "        text-align: right;\n",
       "    }\n",
       "</style>\n",
       "<table border=\"1\" class=\"dataframe\">\n",
       "  <thead>\n",
       "    <tr style=\"text-align: right;\">\n",
       "      <th></th>\n",
       "      <th>rain</th>\n",
       "      <th>min_temp</th>\n",
       "      <th>Target_yeo</th>\n",
       "    </tr>\n",
       "  </thead>\n",
       "  <tbody>\n",
       "    <tr>\n",
       "      <th>0</th>\n",
       "      <td>0.0</td>\n",
       "      <td>12.2</td>\n",
       "      <td>6.571413</td>\n",
       "    </tr>\n",
       "    <tr>\n",
       "      <th>1</th>\n",
       "      <td>16.5</td>\n",
       "      <td>16.5</td>\n",
       "      <td>6.672078</td>\n",
       "    </tr>\n",
       "    <tr>\n",
       "      <th>2</th>\n",
       "      <td>27.0</td>\n",
       "      <td>8.9</td>\n",
       "      <td>6.819922</td>\n",
       "    </tr>\n",
       "    <tr>\n",
       "      <th>3</th>\n",
       "      <td>0.0</td>\n",
       "      <td>10.2</td>\n",
       "      <td>6.581196</td>\n",
       "    </tr>\n",
       "    <tr>\n",
       "      <th>4</th>\n",
       "      <td>7.5</td>\n",
       "      <td>10.2</td>\n",
       "      <td>6.512448</td>\n",
       "    </tr>\n",
       "    <tr>\n",
       "      <th>...</th>\n",
       "      <td>...</td>\n",
       "      <td>...</td>\n",
       "      <td>...</td>\n",
       "    </tr>\n",
       "    <tr>\n",
       "      <th>1290</th>\n",
       "      <td>0.0</td>\n",
       "      <td>-4.6</td>\n",
       "      <td>1.980530</td>\n",
       "    </tr>\n",
       "    <tr>\n",
       "      <th>1291</th>\n",
       "      <td>0.0</td>\n",
       "      <td>-3.6</td>\n",
       "      <td>1.980530</td>\n",
       "    </tr>\n",
       "    <tr>\n",
       "      <th>1292</th>\n",
       "      <td>1.4</td>\n",
       "      <td>1.1</td>\n",
       "      <td>1.980530</td>\n",
       "    </tr>\n",
       "    <tr>\n",
       "      <th>1293</th>\n",
       "      <td>0.4</td>\n",
       "      <td>-5.7</td>\n",
       "      <td>1.980530</td>\n",
       "    </tr>\n",
       "    <tr>\n",
       "      <th>1294</th>\n",
       "      <td>0.0</td>\n",
       "      <td>-10.9</td>\n",
       "      <td>1.980530</td>\n",
       "    </tr>\n",
       "  </tbody>\n",
       "</table>\n",
       "<p>1295 rows × 3 columns</p>\n",
       "</div>"
      ],
      "text/plain": [
       "      rain  min_temp  Target_yeo\n",
       "0      0.0      12.2    6.571413\n",
       "1     16.5      16.5    6.672078\n",
       "2     27.0       8.9    6.819922\n",
       "3      0.0      10.2    6.581196\n",
       "4      7.5      10.2    6.512448\n",
       "...    ...       ...         ...\n",
       "1290   0.0      -4.6    1.980530\n",
       "1291   0.0      -3.6    1.980530\n",
       "1292   1.4       1.1    1.980530\n",
       "1293   0.4      -5.7    1.980530\n",
       "1294   0.0     -10.9    1.980530\n",
       "\n",
       "[1295 rows x 3 columns]"
      ]
     },
     "execution_count": 52,
     "metadata": {},
     "output_type": "execute_result"
    }
   ],
   "source": [
    "# 기존 target 컬럼 제거\n",
    "pre_m_df = pre_m_df.drop(labels=['mosquito_Indicator'], axis=1)\n",
    "pre_m_df"
   ]
  },
  {
   "cell_type": "code",
   "execution_count": 53,
   "id": "189b69a7-609b-4d72-b6f5-bbe93279e104",
   "metadata": {},
   "outputs": [
    {
     "name": "stdout",
     "output_type": "stream",
     "text": [
      "                                 OLS Regression Results                                \n",
      "=======================================================================================\n",
      "Dep. Variable:             Target_yeo   R-squared (uncentered):                   0.800\n",
      "Model:                            OLS   Adj. R-squared (uncentered):              0.800\n",
      "Method:                 Least Squares   F-statistic:                              2588.\n",
      "Date:                Mon, 29 Apr 2024   Prob (F-statistic):                        0.00\n",
      "Time:                        14:32:09   Log-Likelihood:                         -2993.3\n",
      "No. Observations:                1295   AIC:                                      5991.\n",
      "Df Residuals:                    1293   BIC:                                      6001.\n",
      "Df Model:                           2                                                  \n",
      "Covariance Type:            nonrobust                                                  \n",
      "==============================================================================\n",
      "                 coef    std err          t      P>|t|      [0.025      0.975]\n",
      "------------------------------------------------------------------------------\n",
      "rain           0.0146      0.006      2.614      0.009       0.004       0.026\n",
      "min_temp       0.3233      0.005     67.689      0.000       0.314       0.333\n",
      "==============================================================================\n",
      "Omnibus:                      219.695   Durbin-Watson:                   0.166\n",
      "Prob(Omnibus):                  0.000   Jarque-Bera (JB):              780.372\n",
      "Skew:                          -0.801   Prob(JB):                    3.50e-170\n",
      "Kurtosis:                       6.449   Cond. No.                         1.42\n",
      "==============================================================================\n",
      "\n",
      "Notes:\n",
      "[1] R² is computed without centering (uncentered) since the model does not contain a constant.\n",
      "[2] Standard Errors assume that the covariance matrix of the errors is correctly specified.\n"
     ]
    }
   ],
   "source": [
    "from statsmodels.api import OLS\n",
    "\n",
    "# target 데이터 가공 후 OLS 평가\n",
    "features, targets = pre_m_df.iloc[:, :-1], pre_m_df.iloc[:, -1]\n",
    "\n",
    "model = OLS(targets, features)\n",
    "print(model.fit().summary())"
   ]
  },
  {
   "cell_type": "markdown",
   "id": "ccb9744b-6a2d-43b2-9606-26a7799e3b99",
   "metadata": {},
   "source": [
    "#### OLS 출력 결과\n",
    "- R2 점수 향상\n",
    "- Durbin-Watson 점수는 더욱 감소함"
   ]
  },
  {
   "cell_type": "code",
   "execution_count": 54,
   "id": "a112cce4-4331-4127-980d-76f554de7c73",
   "metadata": {},
   "outputs": [
    {
     "data": {
      "text/html": [
       "<div>\n",
       "<style scoped>\n",
       "    .dataframe tbody tr th:only-of-type {\n",
       "        vertical-align: middle;\n",
       "    }\n",
       "\n",
       "    .dataframe tbody tr th {\n",
       "        vertical-align: top;\n",
       "    }\n",
       "\n",
       "    .dataframe thead th {\n",
       "        text-align: right;\n",
       "    }\n",
       "</style>\n",
       "<table border=\"1\" class=\"dataframe\">\n",
       "  <thead>\n",
       "    <tr style=\"text-align: right;\">\n",
       "      <th></th>\n",
       "      <th>vif_score</th>\n",
       "      <th>feature</th>\n",
       "    </tr>\n",
       "  </thead>\n",
       "  <tbody>\n",
       "    <tr>\n",
       "      <th>0</th>\n",
       "      <td>1.10203</td>\n",
       "      <td>rain</td>\n",
       "    </tr>\n",
       "    <tr>\n",
       "      <th>1</th>\n",
       "      <td>1.10203</td>\n",
       "      <td>min_temp</td>\n",
       "    </tr>\n",
       "  </tbody>\n",
       "</table>\n",
       "</div>"
      ],
      "text/plain": [
       "   vif_score   feature\n",
       "0    1.10203      rain\n",
       "1    1.10203  min_temp"
      ]
     },
     "execution_count": 54,
     "metadata": {},
     "output_type": "execute_result"
    }
   ],
   "source": [
    "# feature 별 VIF Score 출력\n",
    "get_vif(features)"
   ]
  },
  {
   "cell_type": "markdown",
   "id": "fa36765f-7e57-494f-b290-49e7fb9d7587",
   "metadata": {},
   "source": [
    "#### VIF Score 출력 결과\n",
    "- 이전 사이클과 동일한 양상을 보임"
   ]
  },
  {
   "cell_type": "markdown",
   "id": "f9ba15b7-8738-4e3c-b8cb-ba5ff3f0210b",
   "metadata": {},
   "source": [
    "#### 선형 회귀 모델로 테스트"
   ]
  },
  {
   "cell_type": "code",
   "execution_count": 56,
   "id": "a207d47e-a774-43fe-ba99-a899ca94b1ba",
   "metadata": {},
   "outputs": [
    {
     "data": {
      "text/html": [
       "<style>#sk-container-id-2 {color: black;background-color: white;}#sk-container-id-2 pre{padding: 0;}#sk-container-id-2 div.sk-toggleable {background-color: white;}#sk-container-id-2 label.sk-toggleable__label {cursor: pointer;display: block;width: 100%;margin-bottom: 0;padding: 0.3em;box-sizing: border-box;text-align: center;}#sk-container-id-2 label.sk-toggleable__label-arrow:before {content: \"▸\";float: left;margin-right: 0.25em;color: #696969;}#sk-container-id-2 label.sk-toggleable__label-arrow:hover:before {color: black;}#sk-container-id-2 div.sk-estimator:hover label.sk-toggleable__label-arrow:before {color: black;}#sk-container-id-2 div.sk-toggleable__content {max-height: 0;max-width: 0;overflow: hidden;text-align: left;background-color: #f0f8ff;}#sk-container-id-2 div.sk-toggleable__content pre {margin: 0.2em;color: black;border-radius: 0.25em;background-color: #f0f8ff;}#sk-container-id-2 input.sk-toggleable__control:checked~div.sk-toggleable__content {max-height: 200px;max-width: 100%;overflow: auto;}#sk-container-id-2 input.sk-toggleable__control:checked~label.sk-toggleable__label-arrow:before {content: \"▾\";}#sk-container-id-2 div.sk-estimator input.sk-toggleable__control:checked~label.sk-toggleable__label {background-color: #d4ebff;}#sk-container-id-2 div.sk-label input.sk-toggleable__control:checked~label.sk-toggleable__label {background-color: #d4ebff;}#sk-container-id-2 input.sk-hidden--visually {border: 0;clip: rect(1px 1px 1px 1px);clip: rect(1px, 1px, 1px, 1px);height: 1px;margin: -1px;overflow: hidden;padding: 0;position: absolute;width: 1px;}#sk-container-id-2 div.sk-estimator {font-family: monospace;background-color: #f0f8ff;border: 1px dotted black;border-radius: 0.25em;box-sizing: border-box;margin-bottom: 0.5em;}#sk-container-id-2 div.sk-estimator:hover {background-color: #d4ebff;}#sk-container-id-2 div.sk-parallel-item::after {content: \"\";width: 100%;border-bottom: 1px solid gray;flex-grow: 1;}#sk-container-id-2 div.sk-label:hover label.sk-toggleable__label {background-color: #d4ebff;}#sk-container-id-2 div.sk-serial::before {content: \"\";position: absolute;border-left: 1px solid gray;box-sizing: border-box;top: 0;bottom: 0;left: 50%;z-index: 0;}#sk-container-id-2 div.sk-serial {display: flex;flex-direction: column;align-items: center;background-color: white;padding-right: 0.2em;padding-left: 0.2em;position: relative;}#sk-container-id-2 div.sk-item {position: relative;z-index: 1;}#sk-container-id-2 div.sk-parallel {display: flex;align-items: stretch;justify-content: center;background-color: white;position: relative;}#sk-container-id-2 div.sk-item::before, #sk-container-id-2 div.sk-parallel-item::before {content: \"\";position: absolute;border-left: 1px solid gray;box-sizing: border-box;top: 0;bottom: 0;left: 50%;z-index: -1;}#sk-container-id-2 div.sk-parallel-item {display: flex;flex-direction: column;z-index: 1;position: relative;background-color: white;}#sk-container-id-2 div.sk-parallel-item:first-child::after {align-self: flex-end;width: 50%;}#sk-container-id-2 div.sk-parallel-item:last-child::after {align-self: flex-start;width: 50%;}#sk-container-id-2 div.sk-parallel-item:only-child::after {width: 0;}#sk-container-id-2 div.sk-dashed-wrapped {border: 1px dashed gray;margin: 0 0.4em 0.5em 0.4em;box-sizing: border-box;padding-bottom: 0.4em;background-color: white;}#sk-container-id-2 div.sk-label label {font-family: monospace;font-weight: bold;display: inline-block;line-height: 1.2em;}#sk-container-id-2 div.sk-label-container {text-align: center;}#sk-container-id-2 div.sk-container {/* jupyter's `normalize.less` sets `[hidden] { display: none; }` but bootstrap.min.css set `[hidden] { display: none !important; }` so we also need the `!important` here to be able to override the default hidden behavior on the sphinx rendered scikit-learn.org. See: https://github.com/scikit-learn/scikit-learn/issues/21755 */display: inline-block !important;position: relative;}#sk-container-id-2 div.sk-text-repr-fallback {display: none;}</style><div id=\"sk-container-id-2\" class=\"sk-top-container\"><div class=\"sk-text-repr-fallback\"><pre>LinearRegression()</pre><b>In a Jupyter environment, please rerun this cell to show the HTML representation or trust the notebook. <br />On GitHub, the HTML representation is unable to render, please try loading this page with nbviewer.org.</b></div><div class=\"sk-container\" hidden><div class=\"sk-item\"><div class=\"sk-estimator sk-toggleable\"><input class=\"sk-toggleable__control sk-hidden--visually\" id=\"sk-estimator-id-2\" type=\"checkbox\" checked><label for=\"sk-estimator-id-2\" class=\"sk-toggleable__label sk-toggleable__label-arrow\">LinearRegression</label><div class=\"sk-toggleable__content\"><pre>LinearRegression()</pre></div></div></div></div></div>"
      ],
      "text/plain": [
       "LinearRegression()"
      ]
     },
     "execution_count": 56,
     "metadata": {},
     "output_type": "execute_result"
    }
   ],
   "source": [
    "from sklearn.model_selection import train_test_split\n",
    "from sklearn.linear_model import LinearRegression\n",
    "\n",
    "features, targets = pre_m_df.iloc[:, :-1], pre_m_df.iloc[:, -1]\n",
    "\n",
    "X_train, X_test, y_train, y_test = \\\n",
    "train_test_split(features, targets, test_size=0.2, random_state=124)\n",
    "\n",
    "l_r = LinearRegression()\n",
    "l_r.fit(X_train, y_train)"
   ]
  },
  {
   "cell_type": "code",
   "execution_count": 59,
   "id": "6f17f194-ee63-4ba8-9bab-1c92b447d465",
   "metadata": {},
   "outputs": [
    {
     "name": "stdout",
     "output_type": "stream",
     "text": [
      "MSE: 2.3786, RMSE: 1.5423, R2: 0.6882\n"
     ]
    }
   ],
   "source": [
    "# 선형 회귀모델 평가\n",
    "prediction = l_r.predict(X_test)\n",
    "get_evaluation(y_test, prediction)"
   ]
  },
  {
   "cell_type": "markdown",
   "id": "03055df4-ab3a-4e36-be2f-cacc6ac00368",
   "metadata": {},
   "source": [
    "#### 선형 회귀 모델 학습 결과\n",
    "- 오차와 R2가 크게 개선됨\n",
    "- R2 Score로 미루어 보아 해당 데이터가 선형 데이터일 가능성이 높아짐"
   ]
  },
  {
   "cell_type": "code",
   "execution_count": 73,
   "id": "9f4089af-8e2e-463d-b5a2-cbbd63930aca",
   "metadata": {},
   "outputs": [
    {
     "data": {
      "text/plain": [
       "array([[ 1.00000000e+00,  0.00000000e+00,  1.22000000e+01, ...,\n",
       "         0.00000000e+00,  0.00000000e+00,  2.21533456e+04],\n",
       "       [ 1.00000000e+00,  1.65000000e+01,  1.65000000e+01, ...,\n",
       "         7.41200625e+04,  7.41200625e+04,  7.41200625e+04],\n",
       "       [ 1.00000000e+00,  2.70000000e+01,  8.90000000e+00, ...,\n",
       "         5.77440900e+04,  1.90341630e+04,  6.27422410e+03],\n",
       "       ...,\n",
       "       [ 1.00000000e+00,  1.40000000e+00,  1.10000000e+00, ...,\n",
       "         2.37160000e+00,  1.86340000e+00,  1.46410000e+00],\n",
       "       [ 1.00000000e+00,  4.00000000e-01, -5.70000000e+00, ...,\n",
       "         5.19840000e+00, -7.40772000e+01,  1.05560010e+03],\n",
       "       [ 1.00000000e+00,  0.00000000e+00, -1.09000000e+01, ...,\n",
       "         0.00000000e+00, -0.00000000e+00,  1.41158161e+04]])"
      ]
     },
     "execution_count": 73,
     "metadata": {},
     "output_type": "execute_result"
    }
   ],
   "source": [
    "# 다항 회귀로 테스트\n",
    "from sklearn.preprocessing import PolynomialFeatures\n",
    "\n",
    "# 다항 회귀: degree는 차수를 의미한다\n",
    "poly_features = PolynomialFeatures(degree=4).fit_transform(features)\n",
    "poly_features"
   ]
  },
  {
   "cell_type": "code",
   "execution_count": 74,
   "id": "722eb299-6d49-4771-975c-bba815569b92",
   "metadata": {},
   "outputs": [
    {
     "data": {
      "text/html": [
       "<style>#sk-container-id-7 {color: black;background-color: white;}#sk-container-id-7 pre{padding: 0;}#sk-container-id-7 div.sk-toggleable {background-color: white;}#sk-container-id-7 label.sk-toggleable__label {cursor: pointer;display: block;width: 100%;margin-bottom: 0;padding: 0.3em;box-sizing: border-box;text-align: center;}#sk-container-id-7 label.sk-toggleable__label-arrow:before {content: \"▸\";float: left;margin-right: 0.25em;color: #696969;}#sk-container-id-7 label.sk-toggleable__label-arrow:hover:before {color: black;}#sk-container-id-7 div.sk-estimator:hover label.sk-toggleable__label-arrow:before {color: black;}#sk-container-id-7 div.sk-toggleable__content {max-height: 0;max-width: 0;overflow: hidden;text-align: left;background-color: #f0f8ff;}#sk-container-id-7 div.sk-toggleable__content pre {margin: 0.2em;color: black;border-radius: 0.25em;background-color: #f0f8ff;}#sk-container-id-7 input.sk-toggleable__control:checked~div.sk-toggleable__content {max-height: 200px;max-width: 100%;overflow: auto;}#sk-container-id-7 input.sk-toggleable__control:checked~label.sk-toggleable__label-arrow:before {content: \"▾\";}#sk-container-id-7 div.sk-estimator input.sk-toggleable__control:checked~label.sk-toggleable__label {background-color: #d4ebff;}#sk-container-id-7 div.sk-label input.sk-toggleable__control:checked~label.sk-toggleable__label {background-color: #d4ebff;}#sk-container-id-7 input.sk-hidden--visually {border: 0;clip: rect(1px 1px 1px 1px);clip: rect(1px, 1px, 1px, 1px);height: 1px;margin: -1px;overflow: hidden;padding: 0;position: absolute;width: 1px;}#sk-container-id-7 div.sk-estimator {font-family: monospace;background-color: #f0f8ff;border: 1px dotted black;border-radius: 0.25em;box-sizing: border-box;margin-bottom: 0.5em;}#sk-container-id-7 div.sk-estimator:hover {background-color: #d4ebff;}#sk-container-id-7 div.sk-parallel-item::after {content: \"\";width: 100%;border-bottom: 1px solid gray;flex-grow: 1;}#sk-container-id-7 div.sk-label:hover label.sk-toggleable__label {background-color: #d4ebff;}#sk-container-id-7 div.sk-serial::before {content: \"\";position: absolute;border-left: 1px solid gray;box-sizing: border-box;top: 0;bottom: 0;left: 50%;z-index: 0;}#sk-container-id-7 div.sk-serial {display: flex;flex-direction: column;align-items: center;background-color: white;padding-right: 0.2em;padding-left: 0.2em;position: relative;}#sk-container-id-7 div.sk-item {position: relative;z-index: 1;}#sk-container-id-7 div.sk-parallel {display: flex;align-items: stretch;justify-content: center;background-color: white;position: relative;}#sk-container-id-7 div.sk-item::before, #sk-container-id-7 div.sk-parallel-item::before {content: \"\";position: absolute;border-left: 1px solid gray;box-sizing: border-box;top: 0;bottom: 0;left: 50%;z-index: -1;}#sk-container-id-7 div.sk-parallel-item {display: flex;flex-direction: column;z-index: 1;position: relative;background-color: white;}#sk-container-id-7 div.sk-parallel-item:first-child::after {align-self: flex-end;width: 50%;}#sk-container-id-7 div.sk-parallel-item:last-child::after {align-self: flex-start;width: 50%;}#sk-container-id-7 div.sk-parallel-item:only-child::after {width: 0;}#sk-container-id-7 div.sk-dashed-wrapped {border: 1px dashed gray;margin: 0 0.4em 0.5em 0.4em;box-sizing: border-box;padding-bottom: 0.4em;background-color: white;}#sk-container-id-7 div.sk-label label {font-family: monospace;font-weight: bold;display: inline-block;line-height: 1.2em;}#sk-container-id-7 div.sk-label-container {text-align: center;}#sk-container-id-7 div.sk-container {/* jupyter's `normalize.less` sets `[hidden] { display: none; }` but bootstrap.min.css set `[hidden] { display: none !important; }` so we also need the `!important` here to be able to override the default hidden behavior on the sphinx rendered scikit-learn.org. See: https://github.com/scikit-learn/scikit-learn/issues/21755 */display: inline-block !important;position: relative;}#sk-container-id-7 div.sk-text-repr-fallback {display: none;}</style><div id=\"sk-container-id-7\" class=\"sk-top-container\"><div class=\"sk-text-repr-fallback\"><pre>LinearRegression()</pre><b>In a Jupyter environment, please rerun this cell to show the HTML representation or trust the notebook. <br />On GitHub, the HTML representation is unable to render, please try loading this page with nbviewer.org.</b></div><div class=\"sk-container\" hidden><div class=\"sk-item\"><div class=\"sk-estimator sk-toggleable\"><input class=\"sk-toggleable__control sk-hidden--visually\" id=\"sk-estimator-id-7\" type=\"checkbox\" checked><label for=\"sk-estimator-id-7\" class=\"sk-toggleable__label sk-toggleable__label-arrow\">LinearRegression</label><div class=\"sk-toggleable__content\"><pre>LinearRegression()</pre></div></div></div></div></div>"
      ],
      "text/plain": [
       "LinearRegression()"
      ]
     },
     "execution_count": 74,
     "metadata": {},
     "output_type": "execute_result"
    }
   ],
   "source": [
    "X_train, X_test, y_train, y_test = \\\n",
    "train_test_split(poly_features, targets, test_size=0.2, random_state=124)\n",
    "\n",
    "l_r = LinearRegression()\n",
    "l_r.fit(X_train, y_train)"
   ]
  },
  {
   "cell_type": "code",
   "execution_count": 75,
   "id": "fbb574f0-b201-4ebc-a47c-dceab2846652",
   "metadata": {},
   "outputs": [
    {
     "name": "stdout",
     "output_type": "stream",
     "text": [
      "MSE: 1.4729, RMSE: 1.2136, R2: 0.8069\n"
     ]
    }
   ],
   "source": [
    "# 테스트 데이터 예측 후 평가\n",
    "prediction = l_r.predict(X_test)\n",
    "\n",
    "get_evaluation(y_test, prediction)"
   ]
  },
  {
   "cell_type": "markdown",
   "id": "24aaab65-d14c-47ec-b595-1f28be6fcdeb",
   "metadata": {},
   "source": [
    "#### 다항 회귀 모델 학습 결과\n",
    "- 선형 회귀 모델에 비해 더욱 높은 평가를 기록함\n",
    "- 다만, 선형 회귀 모델의 R2 Score를 고려했을 때,  \n",
    "  이 데이터는 비선형의 성격을 띄고 있는 선형 데이터라고 할 수 있음"
   ]
  },
  {
   "cell_type": "markdown",
   "id": "2c962779-237a-4ca8-8531-40b2503bc4ec",
   "metadata": {},
   "source": [
    "#### 각종 회귀 모델로 학습 (GridSearch 미사용) "
   ]
  },
  {
   "cell_type": "code",
   "execution_count": 76,
   "id": "747b1742-baa7-4040-a117-b04f8c6aba5f",
   "metadata": {},
   "outputs": [
    {
     "name": "stdout",
     "output_type": "stream",
     "text": [
      "DecisionTreeRegressor\n",
      "MSE: 2.4999, RMSE: 1.5811, R2: 0.6723\n",
      "RandomForestRegressor\n",
      "MSE: 1.8829, RMSE: 1.3722, R2: 0.7532\n",
      "GradientBoostingRegressor\n",
      "MSE: 1.5855, RMSE: 1.2592, R2: 0.7922\n",
      "XGBRegressor\n",
      "MSE: 1.8177, RMSE: 1.3482, R2: 0.7617\n",
      "[LightGBM] [Info] Auto-choosing col-wise multi-threading, the overhead of testing was 0.011571 seconds.\n",
      "You can set `force_col_wise=true` to remove the overhead.\n",
      "[LightGBM] [Info] Total Bins 308\n",
      "[LightGBM] [Info] Number of data points in the train set: 1036, number of used features: 2\n",
      "[LightGBM] [Info] Start training from score 4.716394\n",
      "LGBMRegressor\n",
      "MSE: 1.6194, RMSE: 1.2725, R2: 0.7877\n"
     ]
    }
   ],
   "source": [
    "from sklearn.model_selection import train_test_split\n",
    "from sklearn.tree import DecisionTreeRegressor\n",
    "from sklearn.ensemble import RandomForestRegressor, GradientBoostingRegressor\n",
    "from xgboost import XGBRegressor\n",
    "from lightgbm import LGBMRegressor\n",
    "\n",
    "# 데이터 세트 분할 후 선형 회귀 모델로 훈련\n",
    "features, targets = pre_m_df.iloc[:, :-1], pre_m_df.iloc[:, -1]\n",
    "\n",
    "X_train, X_test, y_train, y_test = \\\n",
    "train_test_split(features, targets, test_size=0.2, random_state=124)\n",
    "\n",
    "# 회귀모델 선언\n",
    "# 주의: poly랑 병행하지 말 것\n",
    "dt_r = DecisionTreeRegressor(random_state=124)\n",
    "rf_r = RandomForestRegressor(random_state=124, n_estimators=1000)\n",
    "gb_r = GradientBoostingRegressor(random_state=124)\n",
    "xgb_r = XGBRegressor()\n",
    "lgb_r = LGBMRegressor(n_estimators=100)\n",
    "\n",
    "# 반복문으로 fit하기 위해 list 안에 담기\n",
    "models = [dt_r, rf_r, gb_r, xgb_r, lgb_r]\n",
    "\n",
    "for model in models:\n",
    "    model.fit(X_train, y_train)\n",
    "    prediction = model.predict(X_test)\n",
    "    print(model.__class__.__name__)\n",
    "    get_evaluation(y_test, prediction)"
   ]
  },
  {
   "cell_type": "markdown",
   "id": "edc38e40-c398-4675-8aaf-1014f706809a",
   "metadata": {},
   "source": [
    "#### 각종 회귀 모델 학습 결과 (GridSearch 미사용)\n",
    "- GBM에서 가장 높은 R2 Score를 기록했으며,  \n",
    "  반대로 DTC에서는 가장 낮은 R2 Score를 기록함"
   ]
  },
  {
   "cell_type": "markdown",
   "id": "46e809c7-0af9-47ae-a9a7-eadd06a459aa",
   "metadata": {},
   "source": [
    "#### Random Forest 회귀 모델 + GridSearch로 하이퍼 파라미터 튜닝 후 학습"
   ]
  },
  {
   "cell_type": "code",
   "execution_count": 78,
   "id": "897ec4b6-3942-4716-8357-cb778b7add8c",
   "metadata": {},
   "outputs": [
    {
     "data": {
      "text/html": [
       "<style>#sk-container-id-8 {color: black;background-color: white;}#sk-container-id-8 pre{padding: 0;}#sk-container-id-8 div.sk-toggleable {background-color: white;}#sk-container-id-8 label.sk-toggleable__label {cursor: pointer;display: block;width: 100%;margin-bottom: 0;padding: 0.3em;box-sizing: border-box;text-align: center;}#sk-container-id-8 label.sk-toggleable__label-arrow:before {content: \"▸\";float: left;margin-right: 0.25em;color: #696969;}#sk-container-id-8 label.sk-toggleable__label-arrow:hover:before {color: black;}#sk-container-id-8 div.sk-estimator:hover label.sk-toggleable__label-arrow:before {color: black;}#sk-container-id-8 div.sk-toggleable__content {max-height: 0;max-width: 0;overflow: hidden;text-align: left;background-color: #f0f8ff;}#sk-container-id-8 div.sk-toggleable__content pre {margin: 0.2em;color: black;border-radius: 0.25em;background-color: #f0f8ff;}#sk-container-id-8 input.sk-toggleable__control:checked~div.sk-toggleable__content {max-height: 200px;max-width: 100%;overflow: auto;}#sk-container-id-8 input.sk-toggleable__control:checked~label.sk-toggleable__label-arrow:before {content: \"▾\";}#sk-container-id-8 div.sk-estimator input.sk-toggleable__control:checked~label.sk-toggleable__label {background-color: #d4ebff;}#sk-container-id-8 div.sk-label input.sk-toggleable__control:checked~label.sk-toggleable__label {background-color: #d4ebff;}#sk-container-id-8 input.sk-hidden--visually {border: 0;clip: rect(1px 1px 1px 1px);clip: rect(1px, 1px, 1px, 1px);height: 1px;margin: -1px;overflow: hidden;padding: 0;position: absolute;width: 1px;}#sk-container-id-8 div.sk-estimator {font-family: monospace;background-color: #f0f8ff;border: 1px dotted black;border-radius: 0.25em;box-sizing: border-box;margin-bottom: 0.5em;}#sk-container-id-8 div.sk-estimator:hover {background-color: #d4ebff;}#sk-container-id-8 div.sk-parallel-item::after {content: \"\";width: 100%;border-bottom: 1px solid gray;flex-grow: 1;}#sk-container-id-8 div.sk-label:hover label.sk-toggleable__label {background-color: #d4ebff;}#sk-container-id-8 div.sk-serial::before {content: \"\";position: absolute;border-left: 1px solid gray;box-sizing: border-box;top: 0;bottom: 0;left: 50%;z-index: 0;}#sk-container-id-8 div.sk-serial {display: flex;flex-direction: column;align-items: center;background-color: white;padding-right: 0.2em;padding-left: 0.2em;position: relative;}#sk-container-id-8 div.sk-item {position: relative;z-index: 1;}#sk-container-id-8 div.sk-parallel {display: flex;align-items: stretch;justify-content: center;background-color: white;position: relative;}#sk-container-id-8 div.sk-item::before, #sk-container-id-8 div.sk-parallel-item::before {content: \"\";position: absolute;border-left: 1px solid gray;box-sizing: border-box;top: 0;bottom: 0;left: 50%;z-index: -1;}#sk-container-id-8 div.sk-parallel-item {display: flex;flex-direction: column;z-index: 1;position: relative;background-color: white;}#sk-container-id-8 div.sk-parallel-item:first-child::after {align-self: flex-end;width: 50%;}#sk-container-id-8 div.sk-parallel-item:last-child::after {align-self: flex-start;width: 50%;}#sk-container-id-8 div.sk-parallel-item:only-child::after {width: 0;}#sk-container-id-8 div.sk-dashed-wrapped {border: 1px dashed gray;margin: 0 0.4em 0.5em 0.4em;box-sizing: border-box;padding-bottom: 0.4em;background-color: white;}#sk-container-id-8 div.sk-label label {font-family: monospace;font-weight: bold;display: inline-block;line-height: 1.2em;}#sk-container-id-8 div.sk-label-container {text-align: center;}#sk-container-id-8 div.sk-container {/* jupyter's `normalize.less` sets `[hidden] { display: none; }` but bootstrap.min.css set `[hidden] { display: none !important; }` so we also need the `!important` here to be able to override the default hidden behavior on the sphinx rendered scikit-learn.org. See: https://github.com/scikit-learn/scikit-learn/issues/21755 */display: inline-block !important;position: relative;}#sk-container-id-8 div.sk-text-repr-fallback {display: none;}</style><div id=\"sk-container-id-8\" class=\"sk-top-container\"><div class=\"sk-text-repr-fallback\"><pre>GridSearchCV(cv=KFold(n_splits=10, random_state=124, shuffle=True),\n",
       "             estimator=RandomForestRegressor(random_state=124),\n",
       "             param_grid={&#x27;max_depth&#x27;: [4, 6, 8, 10],\n",
       "                         &#x27;min_samples_split&#x27;: [10, 20, 30, 40, 50],\n",
       "                         &#x27;n_estimators&#x27;: [10, 50, 100, 500, 1000]},\n",
       "             scoring=&#x27;neg_mean_squared_error&#x27;)</pre><b>In a Jupyter environment, please rerun this cell to show the HTML representation or trust the notebook. <br />On GitHub, the HTML representation is unable to render, please try loading this page with nbviewer.org.</b></div><div class=\"sk-container\" hidden><div class=\"sk-item sk-dashed-wrapped\"><div class=\"sk-label-container\"><div class=\"sk-label sk-toggleable\"><input class=\"sk-toggleable__control sk-hidden--visually\" id=\"sk-estimator-id-8\" type=\"checkbox\" ><label for=\"sk-estimator-id-8\" class=\"sk-toggleable__label sk-toggleable__label-arrow\">GridSearchCV</label><div class=\"sk-toggleable__content\"><pre>GridSearchCV(cv=KFold(n_splits=10, random_state=124, shuffle=True),\n",
       "             estimator=RandomForestRegressor(random_state=124),\n",
       "             param_grid={&#x27;max_depth&#x27;: [4, 6, 8, 10],\n",
       "                         &#x27;min_samples_split&#x27;: [10, 20, 30, 40, 50],\n",
       "                         &#x27;n_estimators&#x27;: [10, 50, 100, 500, 1000]},\n",
       "             scoring=&#x27;neg_mean_squared_error&#x27;)</pre></div></div></div><div class=\"sk-parallel\"><div class=\"sk-parallel-item\"><div class=\"sk-item\"><div class=\"sk-label-container\"><div class=\"sk-label sk-toggleable\"><input class=\"sk-toggleable__control sk-hidden--visually\" id=\"sk-estimator-id-9\" type=\"checkbox\" ><label for=\"sk-estimator-id-9\" class=\"sk-toggleable__label sk-toggleable__label-arrow\">estimator: RandomForestRegressor</label><div class=\"sk-toggleable__content\"><pre>RandomForestRegressor(random_state=124)</pre></div></div></div><div class=\"sk-serial\"><div class=\"sk-item\"><div class=\"sk-estimator sk-toggleable\"><input class=\"sk-toggleable__control sk-hidden--visually\" id=\"sk-estimator-id-10\" type=\"checkbox\" ><label for=\"sk-estimator-id-10\" class=\"sk-toggleable__label sk-toggleable__label-arrow\">RandomForestRegressor</label><div class=\"sk-toggleable__content\"><pre>RandomForestRegressor(random_state=124)</pre></div></div></div></div></div></div></div></div></div></div>"
      ],
      "text/plain": [
       "GridSearchCV(cv=KFold(n_splits=10, random_state=124, shuffle=True),\n",
       "             estimator=RandomForestRegressor(random_state=124),\n",
       "             param_grid={'max_depth': [4, 6, 8, 10],\n",
       "                         'min_samples_split': [10, 20, 30, 40, 50],\n",
       "                         'n_estimators': [10, 50, 100, 500, 1000]},\n",
       "             scoring='neg_mean_squared_error')"
      ]
     },
     "execution_count": 78,
     "metadata": {},
     "output_type": "execute_result"
    }
   ],
   "source": [
    "from sklearn.model_selection import GridSearchCV\n",
    "from sklearn.ensemble import RandomForestRegressor\n",
    "from sklearn.model_selection import train_test_split\n",
    "from sklearn.model_selection import KFold\n",
    "\n",
    "# 데이터 세트 분할 후 선형 회귀 모델로 훈련\n",
    "features, targets = pre_m_df.iloc[:, :-1], pre_m_df.iloc[:, -1]\n",
    "\n",
    "X_train, X_test, y_train, y_test = \\\n",
    "train_test_split(features, targets, test_size=0.2, random_state=124)\n",
    "\n",
    "rf_r = RandomForestRegressor(random_state=124)\n",
    "\n",
    "parameters = {'max_depth': [4, 6, 8, 10],\n",
    "              'min_samples_split': [10, 20, 30, 40, 50],\n",
    "              'n_estimators': [10, 50, 100, 500, 1000]}\n",
    "\n",
    "kfold = KFold(n_splits=10, random_state=124, shuffle=True)\n",
    "\n",
    "# scoring='neg_mean_squared_error': MSE가 낮은 순으로 평가\n",
    "grid_rf_r = GridSearchCV(rf_r, param_grid=parameters, scoring='neg_mean_squared_error', cv=kfold)\n",
    "\n",
    "# cv에 시드값이 고정된 KFold 객체를 전달\n",
    "# grid_rf_r = GridSearchCV(rf_r, param_grid=parameters, scoring='r2', cv=kfold)\n",
    "grid_rf_r.fit(X_train, y_train)"
   ]
  },
  {
   "cell_type": "code",
   "execution_count": 79,
   "id": "43682f41-3580-4db9-a58f-0a97df26c9af",
   "metadata": {},
   "outputs": [
    {
     "data": {
      "text/html": [
       "<div>\n",
       "<style scoped>\n",
       "    .dataframe tbody tr th:only-of-type {\n",
       "        vertical-align: middle;\n",
       "    }\n",
       "\n",
       "    .dataframe tbody tr th {\n",
       "        vertical-align: top;\n",
       "    }\n",
       "\n",
       "    .dataframe thead th {\n",
       "        text-align: right;\n",
       "    }\n",
       "</style>\n",
       "<table border=\"1\" class=\"dataframe\">\n",
       "  <thead>\n",
       "    <tr style=\"text-align: right;\">\n",
       "      <th></th>\n",
       "      <th>params</th>\n",
       "      <th>mean_test_score</th>\n",
       "      <th>rank_test_score</th>\n",
       "    </tr>\n",
       "  </thead>\n",
       "  <tbody>\n",
       "    <tr>\n",
       "      <th>0</th>\n",
       "      <td>{'max_depth': 4, 'min_samples_split': 10, 'n_e...</td>\n",
       "      <td>-1.412185</td>\n",
       "      <td>54</td>\n",
       "    </tr>\n",
       "    <tr>\n",
       "      <th>1</th>\n",
       "      <td>{'max_depth': 4, 'min_samples_split': 10, 'n_e...</td>\n",
       "      <td>-1.411062</td>\n",
       "      <td>51</td>\n",
       "    </tr>\n",
       "    <tr>\n",
       "      <th>2</th>\n",
       "      <td>{'max_depth': 4, 'min_samples_split': 10, 'n_e...</td>\n",
       "      <td>-1.407172</td>\n",
       "      <td>48</td>\n",
       "    </tr>\n",
       "    <tr>\n",
       "      <th>3</th>\n",
       "      <td>{'max_depth': 4, 'min_samples_split': 10, 'n_e...</td>\n",
       "      <td>-1.405038</td>\n",
       "      <td>45</td>\n",
       "    </tr>\n",
       "    <tr>\n",
       "      <th>4</th>\n",
       "      <td>{'max_depth': 4, 'min_samples_split': 10, 'n_e...</td>\n",
       "      <td>-1.402181</td>\n",
       "      <td>41</td>\n",
       "    </tr>\n",
       "    <tr>\n",
       "      <th>...</th>\n",
       "      <td>...</td>\n",
       "      <td>...</td>\n",
       "      <td>...</td>\n",
       "    </tr>\n",
       "    <tr>\n",
       "      <th>95</th>\n",
       "      <td>{'max_depth': 10, 'min_samples_split': 50, 'n_...</td>\n",
       "      <td>-1.367057</td>\n",
       "      <td>1</td>\n",
       "    </tr>\n",
       "    <tr>\n",
       "      <th>96</th>\n",
       "      <td>{'max_depth': 10, 'min_samples_split': 50, 'n_...</td>\n",
       "      <td>-1.375849</td>\n",
       "      <td>10</td>\n",
       "    </tr>\n",
       "    <tr>\n",
       "      <th>97</th>\n",
       "      <td>{'max_depth': 10, 'min_samples_split': 50, 'n_...</td>\n",
       "      <td>-1.377594</td>\n",
       "      <td>12</td>\n",
       "    </tr>\n",
       "    <tr>\n",
       "      <th>98</th>\n",
       "      <td>{'max_depth': 10, 'min_samples_split': 50, 'n_...</td>\n",
       "      <td>-1.374330</td>\n",
       "      <td>4</td>\n",
       "    </tr>\n",
       "    <tr>\n",
       "      <th>99</th>\n",
       "      <td>{'max_depth': 10, 'min_samples_split': 50, 'n_...</td>\n",
       "      <td>-1.373329</td>\n",
       "      <td>2</td>\n",
       "    </tr>\n",
       "  </tbody>\n",
       "</table>\n",
       "<p>100 rows × 3 columns</p>\n",
       "</div>"
      ],
      "text/plain": [
       "                                               params  mean_test_score  \\\n",
       "0   {'max_depth': 4, 'min_samples_split': 10, 'n_e...        -1.412185   \n",
       "1   {'max_depth': 4, 'min_samples_split': 10, 'n_e...        -1.411062   \n",
       "2   {'max_depth': 4, 'min_samples_split': 10, 'n_e...        -1.407172   \n",
       "3   {'max_depth': 4, 'min_samples_split': 10, 'n_e...        -1.405038   \n",
       "4   {'max_depth': 4, 'min_samples_split': 10, 'n_e...        -1.402181   \n",
       "..                                                ...              ...   \n",
       "95  {'max_depth': 10, 'min_samples_split': 50, 'n_...        -1.367057   \n",
       "96  {'max_depth': 10, 'min_samples_split': 50, 'n_...        -1.375849   \n",
       "97  {'max_depth': 10, 'min_samples_split': 50, 'n_...        -1.377594   \n",
       "98  {'max_depth': 10, 'min_samples_split': 50, 'n_...        -1.374330   \n",
       "99  {'max_depth': 10, 'min_samples_split': 50, 'n_...        -1.373329   \n",
       "\n",
       "    rank_test_score  \n",
       "0                54  \n",
       "1                51  \n",
       "2                48  \n",
       "3                45  \n",
       "4                41  \n",
       "..              ...  \n",
       "95                1  \n",
       "96               10  \n",
       "97               12  \n",
       "98                4  \n",
       "99                2  \n",
       "\n",
       "[100 rows x 3 columns]"
      ]
     },
     "metadata": {},
     "output_type": "display_data"
    }
   ],
   "source": [
    "result_df = pd.DataFrame(grid_rf_r.cv_results_)[['params', 'mean_test_score', 'rank_test_score']]\n",
    "display(result_df)"
   ]
  },
  {
   "cell_type": "code",
   "execution_count": 82,
   "id": "9d63d2c3-fefc-4b43-89a1-d407d6372dc7",
   "metadata": {},
   "outputs": [
    {
     "name": "stdout",
     "output_type": "stream",
     "text": [
      "{'max_depth': 10, 'min_samples_split': 50, 'n_estimators': 10}\n"
     ]
    }
   ],
   "source": [
    "for params in result_df[result_df['rank_test_score'] == 1]['params']:\n",
    "    print(params)"
   ]
  },
  {
   "cell_type": "code",
   "execution_count": 83,
   "id": "3702ca75-0026-41f5-9bc2-3fc27d8dea8a",
   "metadata": {},
   "outputs": [
    {
     "data": {
      "text/html": [
       "<style>#sk-container-id-9 {color: black;background-color: white;}#sk-container-id-9 pre{padding: 0;}#sk-container-id-9 div.sk-toggleable {background-color: white;}#sk-container-id-9 label.sk-toggleable__label {cursor: pointer;display: block;width: 100%;margin-bottom: 0;padding: 0.3em;box-sizing: border-box;text-align: center;}#sk-container-id-9 label.sk-toggleable__label-arrow:before {content: \"▸\";float: left;margin-right: 0.25em;color: #696969;}#sk-container-id-9 label.sk-toggleable__label-arrow:hover:before {color: black;}#sk-container-id-9 div.sk-estimator:hover label.sk-toggleable__label-arrow:before {color: black;}#sk-container-id-9 div.sk-toggleable__content {max-height: 0;max-width: 0;overflow: hidden;text-align: left;background-color: #f0f8ff;}#sk-container-id-9 div.sk-toggleable__content pre {margin: 0.2em;color: black;border-radius: 0.25em;background-color: #f0f8ff;}#sk-container-id-9 input.sk-toggleable__control:checked~div.sk-toggleable__content {max-height: 200px;max-width: 100%;overflow: auto;}#sk-container-id-9 input.sk-toggleable__control:checked~label.sk-toggleable__label-arrow:before {content: \"▾\";}#sk-container-id-9 div.sk-estimator input.sk-toggleable__control:checked~label.sk-toggleable__label {background-color: #d4ebff;}#sk-container-id-9 div.sk-label input.sk-toggleable__control:checked~label.sk-toggleable__label {background-color: #d4ebff;}#sk-container-id-9 input.sk-hidden--visually {border: 0;clip: rect(1px 1px 1px 1px);clip: rect(1px, 1px, 1px, 1px);height: 1px;margin: -1px;overflow: hidden;padding: 0;position: absolute;width: 1px;}#sk-container-id-9 div.sk-estimator {font-family: monospace;background-color: #f0f8ff;border: 1px dotted black;border-radius: 0.25em;box-sizing: border-box;margin-bottom: 0.5em;}#sk-container-id-9 div.sk-estimator:hover {background-color: #d4ebff;}#sk-container-id-9 div.sk-parallel-item::after {content: \"\";width: 100%;border-bottom: 1px solid gray;flex-grow: 1;}#sk-container-id-9 div.sk-label:hover label.sk-toggleable__label {background-color: #d4ebff;}#sk-container-id-9 div.sk-serial::before {content: \"\";position: absolute;border-left: 1px solid gray;box-sizing: border-box;top: 0;bottom: 0;left: 50%;z-index: 0;}#sk-container-id-9 div.sk-serial {display: flex;flex-direction: column;align-items: center;background-color: white;padding-right: 0.2em;padding-left: 0.2em;position: relative;}#sk-container-id-9 div.sk-item {position: relative;z-index: 1;}#sk-container-id-9 div.sk-parallel {display: flex;align-items: stretch;justify-content: center;background-color: white;position: relative;}#sk-container-id-9 div.sk-item::before, #sk-container-id-9 div.sk-parallel-item::before {content: \"\";position: absolute;border-left: 1px solid gray;box-sizing: border-box;top: 0;bottom: 0;left: 50%;z-index: -1;}#sk-container-id-9 div.sk-parallel-item {display: flex;flex-direction: column;z-index: 1;position: relative;background-color: white;}#sk-container-id-9 div.sk-parallel-item:first-child::after {align-self: flex-end;width: 50%;}#sk-container-id-9 div.sk-parallel-item:last-child::after {align-self: flex-start;width: 50%;}#sk-container-id-9 div.sk-parallel-item:only-child::after {width: 0;}#sk-container-id-9 div.sk-dashed-wrapped {border: 1px dashed gray;margin: 0 0.4em 0.5em 0.4em;box-sizing: border-box;padding-bottom: 0.4em;background-color: white;}#sk-container-id-9 div.sk-label label {font-family: monospace;font-weight: bold;display: inline-block;line-height: 1.2em;}#sk-container-id-9 div.sk-label-container {text-align: center;}#sk-container-id-9 div.sk-container {/* jupyter's `normalize.less` sets `[hidden] { display: none; }` but bootstrap.min.css set `[hidden] { display: none !important; }` so we also need the `!important` here to be able to override the default hidden behavior on the sphinx rendered scikit-learn.org. See: https://github.com/scikit-learn/scikit-learn/issues/21755 */display: inline-block !important;position: relative;}#sk-container-id-9 div.sk-text-repr-fallback {display: none;}</style><div id=\"sk-container-id-9\" class=\"sk-top-container\"><div class=\"sk-text-repr-fallback\"><pre>RandomForestRegressor(max_depth=10, min_samples_split=50, n_estimators=10,\n",
       "                      random_state=124)</pre><b>In a Jupyter environment, please rerun this cell to show the HTML representation or trust the notebook. <br />On GitHub, the HTML representation is unable to render, please try loading this page with nbviewer.org.</b></div><div class=\"sk-container\" hidden><div class=\"sk-item\"><div class=\"sk-estimator sk-toggleable\"><input class=\"sk-toggleable__control sk-hidden--visually\" id=\"sk-estimator-id-11\" type=\"checkbox\" checked><label for=\"sk-estimator-id-11\" class=\"sk-toggleable__label sk-toggleable__label-arrow\">RandomForestRegressor</label><div class=\"sk-toggleable__content\"><pre>RandomForestRegressor(max_depth=10, min_samples_split=50, n_estimators=10,\n",
       "                      random_state=124)</pre></div></div></div></div></div>"
      ],
      "text/plain": [
       "RandomForestRegressor(max_depth=10, min_samples_split=50, n_estimators=10,\n",
       "                      random_state=124)"
      ]
     },
     "execution_count": 83,
     "metadata": {},
     "output_type": "execute_result"
    }
   ],
   "source": [
    "# 하이퍼 파라미터로 튜닝\n",
    "features, targets = pre_m_df.iloc[:, :-1], pre_m_df.iloc[:, -1]\n",
    "\n",
    "X_train, X_test, y_train, y_test = \\\n",
    "train_test_split(features, targets, test_size=0.2, random_state=124)\n",
    "\n",
    "rf_r = RandomForestRegressor(random_state=124, max_depth=10, min_samples_split=50, n_estimators=10)\n",
    "\n",
    "rf_r.fit(X_train, y_train)"
   ]
  },
  {
   "cell_type": "code",
   "execution_count": 84,
   "id": "46b9adbb-036b-451a-a6b9-d8f14926b530",
   "metadata": {},
   "outputs": [
    {
     "name": "stdout",
     "output_type": "stream",
     "text": [
      "MSE: 1.4831, RMSE: 1.2178, R2: 0.8056\n"
     ]
    }
   ],
   "source": [
    "# 테스트 데이터 예측 후 평가\n",
    "prediction = rf_r.predict(X_test)\n",
    "\n",
    "get_evaluation(y_test, prediction)"
   ]
  },
  {
   "cell_type": "markdown",
   "id": "37cb88a3-4ae8-4c99-a5b3-b103873e4b4c",
   "metadata": {},
   "source": [
    "#### 하이퍼 파라미터 조정 결과\n",
    "- 튜닝 전 Random Forest 모델에 비해 향상된 평가를 보임\n",
    "- 다만, 다항 회귀보다는 낮은 평가를 기록함\n",
    "- 전처리 과정을 보완하면 더 나은 모델을 구축할 수 있을 것으로 추정\n",
    "> - 데이터 표준화 후, -1.96 ~ 1.96 사이의 데이터만 유지"
   ]
  },
  {
   "cell_type": "code",
   "execution_count": null,
   "id": "6ff5effd-e65c-4a1b-a5e1-4b80b3b7850f",
   "metadata": {},
   "outputs": [],
   "source": []
  }
 ],
 "metadata": {
  "kernelspec": {
   "display_name": "Python 3 (ipykernel)",
   "language": "python",
   "name": "python3"
  },
  "language_info": {
   "codemirror_mode": {
    "name": "ipython",
    "version": 3
   },
   "file_extension": ".py",
   "mimetype": "text/x-python",
   "name": "python",
   "nbconvert_exporter": "python",
   "pygments_lexer": "ipython3",
   "version": "3.11.8"
  }
 },
 "nbformat": 4,
 "nbformat_minor": 5
}
