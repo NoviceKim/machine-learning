{
 "cells": [
  {
   "cell_type": "markdown",
   "id": "31a2bfbd-130f-4e25-8b0c-b9c685a6c6e3",
   "metadata": {},
   "source": [
    "### Regularized Linear Regression (정규화된 선형 회귀)\n",
    "- 다중 회귀 모델은 복잡도가 높아서 과대적합(overfitting)되는 경향이 있다.\n",
    "- 이를 해결하기 위해서는 규제(penalty)를 주어 복잡도를 감소시켜야 한다.\n",
    "\n",
    "#### 라쏘 (LASSO, Least Absolute Shrinkage and Selection Operator)\n",
    "- L1 규제를 통한 정규화(L1 Norm)를 사용하는 방식이다.\n",
    "- 규제항이 0에 수렴할 때 L1 정규화에서는 가중치(W)가 0이 될 수 있다.\n",
    "- L1 정규화의 경우 절대값에 대한 식이므로 미분이 불가능한 지점이 있지만,  \n",
    "  특정 방식을 통해 미분하면 가중치가 0이 된다.\n",
    "- 위의 성질 때문에 경사하강법을 통해 학습하는 모델에는 적합하지 않다.\n",
    "- 중요도가 떨어지는 feature들은 모델에서 제외하는 식으로 모델을 단순화하고,  \n",
    "  가장 영향력이 큰 feature가 무엇인지 알 수 있기 때문에 모델의 해석력이 향상된다.\n",
    "\n",
    "<div style=\"display: flex; margin-top:20px\">\n",
    "    <div>\n",
    "        <img src=\"./images/regularized01.png\" width=\"350\" style=\"margin-left: 30px\">\n",
    "    </div>\n",
    "    <div>\n",
    "        <img src=\"./images/regularized02.png\" style=\"margin-left: 50px\">\n",
    "    </div>\n",
    "</div>\n",
    "\n",
    "\n",
    "#### 릿지 (Ridge)\n",
    "- L2 규제를 통한 정규화(L2 Norm)를 사용하는 방식이다.\n",
    "- 규제항이 0에 수렴할 때 L2 정규화의 경우 가중치는 0이 될 수 없다.\n",
    "- L2 정규화의 경우 미분했을 때 가중치가 남아있기 때문에 경사하강법을 사용하는 모델에 적합하다.\n",
    "- 값이 0이 되어 제외되는 feature가 없지만,  \n",
    "  골고루 0에 수렴하는 방향으로 작아지기 때문에 장기적으로 봤을 때 더 좋은 모델이 된다.\n",
    "\n",
    "**λ (Regulation Parameter)**\n",
    "- λ이 커지면 Loss Function을 최소화하는 과정에서 Norm이 작아지므로 규제가 강해졌다고 표현한다.\n",
    "- λ이 작아지면 Loss Function을 최소화하는 과정에서 Norm이 커지므로 규제가 약해졌다고 표현한다.\n",
    "\n",
    "<div style=\"display: flex; margin-top:20px\">\n",
    "    <div>\n",
    "        <img src=\"./images/regularized03.png\" width=\"350\" style=\"margin-left: 30px\">\n",
    "    </div>\n",
    "    <div>\n",
    "        <img src=\"./images/regularized04.png\" style=\"margin-left: 50px\">\n",
    "    </div>\n",
    "</div>"
   ]
  },
  {
   "cell_type": "markdown",
   "id": "b20a71d2-f0a8-4249-badc-64b925219b38",
   "metadata": {},
   "source": [
    "### 한국인 수익 예측\n",
    "- id : 식별 번호\n",
    "- year : 조사 년도\n",
    "- wave : 2005년 wave 1위부터 2018년 wave 14위까지\n",
    "- region: 1)서울 2)경기 3)경남 4)경북 5)충남 6)강원 & 충북 7)전라 & 제주\n",
    "- income: 연간 수입 M원(백만원.1100원=1USD)\n",
    "- family_member: 가족 구성원 수\n",
    "- gender: 1) 남성 2) 여성\n",
    "- year_born: 태어난 년도\n",
    "- education_level: 1)무교육(7세 미만) 2)무교육(7세 이상) 3)초등학교 4)중학교 5)고등학교 6)대학 학위 8)MA 9)박사 학위\n",
    "- marriage: 혼인상태. 1)해당없음(18세 미만) 2)혼인중 3)사망으로 별거중 4)별거중 5)미혼 6)기타\n",
    "- religion: 1) 종교 있음 2) 종교 없음  \n",
    "- occupation: 직종 코드, 별도 첨부\n",
    "- company_size: 기업 규모\n",
    "- reason_none_worker: 1)능력 없음 2)군 복무 중 3)학교에서 공부 중 4)학교 준비 5)직장인 7)집에서 돌보는 아이들 8)간호 9)경제 활동 포기 10)일할 의사 없음 11)기타"
   ]
  },
  {
   "cell_type": "code",
   "execution_count": null,
   "id": "3c2c13d0-9a20-4299-b68d-948fba81122c",
   "metadata": {},
   "outputs": [],
   "source": []
  },
  {
   "cell_type": "code",
   "execution_count": null,
   "id": "6dbcd935-5944-4f84-8af9-89b951b36942",
   "metadata": {},
   "outputs": [],
   "source": []
  },
  {
   "cell_type": "code",
   "execution_count": null,
   "id": "53cd1a42-bdeb-4e6d-88a9-b72b149c872c",
   "metadata": {},
   "outputs": [],
   "source": []
  },
  {
   "cell_type": "code",
   "execution_count": null,
   "id": "5647bd7e-f102-4bf5-b3c6-99ce326d4a29",
   "metadata": {},
   "outputs": [],
   "source": []
  },
  {
   "cell_type": "code",
   "execution_count": null,
   "id": "a257fadd-e8d5-43d8-bc8e-71fdcd3573ba",
   "metadata": {},
   "outputs": [],
   "source": []
  },
  {
   "cell_type": "code",
   "execution_count": null,
   "id": "c950776a-e157-41aa-a459-1fcfd673d869",
   "metadata": {},
   "outputs": [],
   "source": []
  },
  {
   "cell_type": "code",
   "execution_count": null,
   "id": "7ca0af18-13ee-432a-8932-50a6dd18d3cb",
   "metadata": {},
   "outputs": [],
   "source": []
  },
  {
   "cell_type": "code",
   "execution_count": null,
   "id": "6fd1b693-0402-43ff-9105-06562689f74b",
   "metadata": {},
   "outputs": [],
   "source": []
  },
  {
   "cell_type": "code",
   "execution_count": null,
   "id": "30871511-211d-4fed-9c67-16d31e3a5ae9",
   "metadata": {},
   "outputs": [],
   "source": []
  },
  {
   "cell_type": "code",
   "execution_count": null,
   "id": "93e7b12b-ae8f-4f1b-978d-7f3b797d3f5a",
   "metadata": {},
   "outputs": [],
   "source": []
  },
  {
   "cell_type": "code",
   "execution_count": null,
   "id": "a2d274d4-a685-4631-b523-62e8e5b063e0",
   "metadata": {},
   "outputs": [],
   "source": []
  },
  {
   "cell_type": "code",
   "execution_count": null,
   "id": "a5013962-d9ea-4d00-aee6-c5dcef664e9b",
   "metadata": {},
   "outputs": [],
   "source": []
  },
  {
   "cell_type": "code",
   "execution_count": null,
   "id": "6bb91d7c-a875-4669-94f2-0c60b48cc1a8",
   "metadata": {},
   "outputs": [],
   "source": []
  },
  {
   "cell_type": "code",
   "execution_count": null,
   "id": "8ab6a7c6-32fe-434c-8180-99c1b5b3bd8f",
   "metadata": {},
   "outputs": [],
   "source": []
  },
  {
   "cell_type": "code",
   "execution_count": null,
   "id": "186f3968-69ae-4d4c-89c7-e02a32bac1e6",
   "metadata": {},
   "outputs": [],
   "source": []
  },
  {
   "cell_type": "code",
   "execution_count": null,
   "id": "1189f5cf-eed5-49cf-9f8c-f664aad66187",
   "metadata": {},
   "outputs": [],
   "source": []
  },
  {
   "cell_type": "code",
   "execution_count": null,
   "id": "026c410f-ac0f-428a-b70c-8ca895070bfb",
   "metadata": {},
   "outputs": [],
   "source": []
  },
  {
   "cell_type": "code",
   "execution_count": null,
   "id": "dc45865f-aa3a-43ad-b283-99c4b4d413d8",
   "metadata": {},
   "outputs": [],
   "source": []
  },
  {
   "cell_type": "code",
   "execution_count": null,
   "id": "14d2228c-11a8-4aee-ae60-a340ef709984",
   "metadata": {},
   "outputs": [],
   "source": []
  },
  {
   "cell_type": "code",
   "execution_count": null,
   "id": "c39c17a2-88e1-424c-afd7-630b4b02cc10",
   "metadata": {},
   "outputs": [],
   "source": []
  },
  {
   "cell_type": "code",
   "execution_count": null,
   "id": "03f2fe7a-2520-47b5-a008-602d289b185e",
   "metadata": {},
   "outputs": [],
   "source": []
  },
  {
   "cell_type": "code",
   "execution_count": null,
   "id": "c4eaff39-959a-4df1-bb28-47e54197b72f",
   "metadata": {},
   "outputs": [],
   "source": []
  },
  {
   "cell_type": "code",
   "execution_count": null,
   "id": "1ceef6a7-69b0-4ccd-b819-18351f7a61ed",
   "metadata": {},
   "outputs": [],
   "source": []
  },
  {
   "cell_type": "code",
   "execution_count": null,
   "id": "6146448c-dfaa-44bd-8a26-11feddb4fae3",
   "metadata": {},
   "outputs": [],
   "source": []
  },
  {
   "cell_type": "code",
   "execution_count": null,
   "id": "27d94832-c6f6-41d1-b005-66339ab5a1ed",
   "metadata": {},
   "outputs": [],
   "source": []
  },
  {
   "cell_type": "code",
   "execution_count": null,
   "id": "358e1377-61fe-4bda-9f70-4448ed259612",
   "metadata": {},
   "outputs": [],
   "source": []
  },
  {
   "cell_type": "code",
   "execution_count": null,
   "id": "13c47d0d-966e-4ecf-a6d3-025371ccd24c",
   "metadata": {},
   "outputs": [],
   "source": []
  },
  {
   "cell_type": "code",
   "execution_count": null,
   "id": "105b03b3-f50d-410a-9a22-8c4386bde844",
   "metadata": {},
   "outputs": [],
   "source": []
  },
  {
   "cell_type": "code",
   "execution_count": null,
   "id": "f3a584aa-4622-4a91-812d-44b81d45fb58",
   "metadata": {},
   "outputs": [],
   "source": []
  },
  {
   "cell_type": "code",
   "execution_count": null,
   "id": "c7b5d8d7-423d-4729-ba6e-25841ba7f919",
   "metadata": {},
   "outputs": [],
   "source": []
  },
  {
   "cell_type": "code",
   "execution_count": null,
   "id": "c41b5dcb-c13f-4090-bdda-dcc6626dc955",
   "metadata": {},
   "outputs": [],
   "source": []
  },
  {
   "cell_type": "code",
   "execution_count": null,
   "id": "90262ead-1194-4d1b-86e9-9718102cdb18",
   "metadata": {},
   "outputs": [],
   "source": []
  },
  {
   "cell_type": "code",
   "execution_count": null,
   "id": "3b61ff4c-175f-4e2e-86bd-53880a02b465",
   "metadata": {},
   "outputs": [],
   "source": []
  },
  {
   "cell_type": "code",
   "execution_count": null,
   "id": "0929195e-a567-47b7-992e-b255b4a6e7a0",
   "metadata": {},
   "outputs": [],
   "source": []
  },
  {
   "cell_type": "code",
   "execution_count": null,
   "id": "ee49a322-58a2-4869-979d-53461811de7b",
   "metadata": {},
   "outputs": [],
   "source": []
  },
  {
   "cell_type": "code",
   "execution_count": null,
   "id": "97cce660-1f80-4acd-8ee8-6b00c3b7fb61",
   "metadata": {},
   "outputs": [],
   "source": []
  },
  {
   "cell_type": "code",
   "execution_count": null,
   "id": "b34b00ff-5ffc-45d2-a92d-77a9d2bb4f67",
   "metadata": {},
   "outputs": [],
   "source": []
  },
  {
   "cell_type": "code",
   "execution_count": null,
   "id": "b13de7df-b8f4-4de1-bce3-67cf7adb467f",
   "metadata": {},
   "outputs": [],
   "source": []
  },
  {
   "cell_type": "code",
   "execution_count": null,
   "id": "901b2a50-145b-4cab-a7c3-b3dee7db4fd0",
   "metadata": {},
   "outputs": [],
   "source": []
  },
  {
   "cell_type": "code",
   "execution_count": null,
   "id": "13cec713-d09b-40d2-9144-740c5dd23d25",
   "metadata": {},
   "outputs": [],
   "source": []
  },
  {
   "cell_type": "code",
   "execution_count": null,
   "id": "92c238b1-c7cf-44fa-af5e-b73377f1287b",
   "metadata": {},
   "outputs": [],
   "source": []
  },
  {
   "cell_type": "code",
   "execution_count": null,
   "id": "3431e658-1890-49f6-8afb-fb12f04fd047",
   "metadata": {},
   "outputs": [],
   "source": []
  },
  {
   "cell_type": "code",
   "execution_count": null,
   "id": "977a2d70-4f91-4fcc-8a7c-0fba6362c59e",
   "metadata": {},
   "outputs": [],
   "source": []
  }
 ],
 "metadata": {
  "kernelspec": {
   "display_name": "Python 3 (ipykernel)",
   "language": "python",
   "name": "python3"
  },
  "language_info": {
   "codemirror_mode": {
    "name": "ipython",
    "version": 3
   },
   "file_extension": ".py",
   "mimetype": "text/x-python",
   "name": "python",
   "nbconvert_exporter": "python",
   "pygments_lexer": "ipython3",
   "version": "3.11.8"
  }
 },
 "nbformat": 4,
 "nbformat_minor": 5
}
