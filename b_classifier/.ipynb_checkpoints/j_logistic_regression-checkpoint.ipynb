{
 "cells": [
  {
   "cell_type": "markdown",
   "id": "6c8e1bce-5dde-4e89-b68d-522ff1fef9be",
   "metadata": {},
   "source": [
    "### 로지스틱 회귀 (Logistic Regression)\n",
    "\n",
    "- 독립 변수의 선형 결합을 이용하여 이진 분류 사건의 발생 가능성을 예측하는데 사용되는 통계기법이다.\n",
    "\n",
    "<div style=\"display: flex; justify-content: space-between; width: 1000px;\">\n",
    "    <table style=\"margin-left: 20px; text-align: center; border: 1px solid #eee; width: 500px;\">\n",
    "        <tr>\n",
    "            <th>노는 시간 - 공부 시간 (x)</th>\n",
    "            <th>합격 여부 (y)</th>\n",
    "        </tr>\n",
    "        <tr>\n",
    "            <td>-4</td>\n",
    "            <td>0</td>\n",
    "        </tr>\n",
    "        <tr>\n",
    "            <td>-2</td>\n",
    "            <td>0</td>\n",
    "        </tr>\n",
    "        <tr>\n",
    "            <td>2</td>\n",
    "            <td>1</td>\n",
    "        </tr>\n",
    "        <tr>\n",
    "            <td>4</td>\n",
    "            <td>1</td>\n",
    "        </tr>\n",
    "    </table>  \n",
    "    <div style=\"width: 400px\">\n",
    "        <img src=\"./images/logistic_regression_train.png\">\n",
    "        <br><br><br>\n",
    "        <img src=\"./images/linear_combination.png\">\n",
    "    </div>\n",
    "</div>  "
   ]
  },
  {
   "cell_type": "code",
   "execution_count": 1,
   "id": "f40b7561-ed41-4e31-977f-5f868b603531",
   "metadata": {},
   "outputs": [],
   "source": [
    "import torch\n",
    "\n",
    "X_train = torch.FloatTensor([[-4], [-2], [2], [4]])\n",
    "y_train = torch.FloatTensor([[0], [0], [1], [1]])"
   ]
  },
  {
   "cell_type": "code",
   "execution_count": 2,
   "id": "2932297a-ef70-4763-88ed-0c50f1050fcf",
   "metadata": {},
   "outputs": [
    {
     "name": "stdout",
     "output_type": "stream",
     "text": [
      "tensor([[-4.],\n",
      "        [-2.],\n",
      "        [ 2.],\n",
      "        [ 4.]])\n",
      "tensor([[0.],\n",
      "        [0.],\n",
      "        [1.],\n",
      "        [1.]])\n"
     ]
    }
   ],
   "source": [
    "print(X_train, y_train, sep='\\n')"
   ]
  },
  {
   "cell_type": "code",
   "execution_count": 7,
   "id": "1408b108-83f5-4500-b9c0-17e55290a9de",
   "metadata": {},
   "outputs": [
    {
     "data": {
      "image/png": "[encoded data removed]",
      "text/plain": [
       "<Figure size 640x480 with 1 Axes>"
      ]
     },
     "metadata": {},
     "output_type": "display_data"
    }
   ],
   "source": [
    "import matplotlib.pyplot as plt\n",
    "import seaborn as sns\n",
    "\n",
    "# 폰트를 맑은 고딕으로 설정하고 한글 깨짐 방지\n",
    "plt.rcParams['font.family'] = 'Malgun Gothic'\n",
    "plt.rcParams['axes.unicode_minus'] = False\n",
    "\n",
    "plt.scatter(X_train, y_train)\n",
    "plt.plot(X_train, y_train, color='red')\n",
    "plt.grid(visible=True, linestyle='--')\n",
    "plt.title('공부 시간에 따른 합격 여부')\n",
    "plt.show()"
   ]
  },
  {
   "cell_type": "markdown",
   "id": "f8b3c5ee-24bc-4d93-8838-ea868dda3aa8",
   "metadata": {},
   "source": [
    "- 위와 같은 데이터에 직선을 사용하게 되면, 매우 큰 오차가 생긴다.\n",
    "- 기존의 가설을 S자형 그래프로 만들 수 있는 함수로 감싸주어야 하고, 이 f 함수가 바로 시그모이드 함수이다.\n",
    "- 따라서 로지스틱 회귀에서는 아래와 같은 가설을 사용하게 된다.\n",
    "\n",
    "<img src=\"./images/logistic_h.png\" style=\"margin-left: 25px;\">  \n",
    "<img src=\"./images/logistic_sigmoid.png\" style=\"margin-left: 25px;\">"
   ]
  },
  {
   "cell_type": "code",
   "execution_count": null,
   "id": "1792137d-d101-4bcd-bcf9-fc2ba8940ae2",
   "metadata": {},
   "outputs": [],
   "source": []
  },
  {
   "cell_type": "markdown",
   "id": "14fedca1-0999-4b91-a175-415c6389083c",
   "metadata": {},
   "source": [
    "- 위에서 확인할 수 있듯이, W는 기울기가 아니라 경사도를 결정하게 된다.  \n",
    "  즉, W가 커질수록 그래프의 경사가 가팔라지고, W가 작아질수록 경사 역시 완만해진다.\n",
    "- b가 커질수록 그래프가 왼쪽으로 이동하고, 반대로 b가 작아질수록 그래프는 오른쪽으로 이동한다.\n",
    "- MSE(평균 제곱 오차) 수식을 통해 경사도와 오차에 대한 그래프를 그린 다음, 미분을 진행하면 다음과 같다.\n",
    "\n",
    "<img src='./images/regression_loss_function01.png' style='margin-left: 20px;'>\n",
    "<img src='./images/sigmoid_gradient_descent01.png' style='margin-left: 20px;'>\n",
    "\n",
    "- 경사 하강법을 통해 오차가 최소가 되는 지점에 도착해도 해당 지점(로컬 미니멈)이 전체에서는 최소가 아닐 수 있기 때문에,  \n",
    "  실제로 최소가 되는 지점(글로벌 미니멈)까지 가야한다.\n",
    "- 이는 많은 기술을 요구하므로 다른 Loss Function을 고려해봐야 한다.\n",
    "\n",
    "---\n",
    "\n",
    "- 아래 그래프는 y = 0.5에 대칭하는 로그 함수이다.\n",
    "\n",
    "<img src='./images/sigmoid_gradient_descent02.png' style='margin-left: 20px;'>\n",
    "\n",
    "- 실제값이 0일 때 예측값이 1에 가까워지면 loss가 점점 커지고,  \n",
    "  실제값이 1일 때 예측값이 0에 수렴해도 loss가 점점 커진다.\n",
    "- 위 로그함수를 수식으로 나타내면 다음과 같다.\n",
    "\n",
    "<img src='./images/sigmoid_gradient_descent03.png' style='margin-left: 20px;'>\n",
    "\n",
    "- 위 식을 통해 W에 대한 Loss Function을 구하는 식은 아래와 같다.\n",
    "\n",
    "<img src='./images/sigmoid_gradient_descent04.png' style='margin-left: 20px;'>\n",
    "\n",
    "- 실제값 y와 예측값 H(x)의 차이가 커질수록 loss 값이 커지고, 차이가 작아질수록 loss 값도 작아진다.\n",
    "- 위의 Loss Function에 대해서 경사 하강법을 수행하여 최적의 경사도(W)를 찾아간다.\n",
    "\n",
    "<img src='./images/sigmoid_gradient_descent05.png' style='margin-left: 20px;'>"
   ]
  },
  {
   "cell_type": "code",
   "execution_count": 14,
   "id": "4c6ab9d8-d2a0-4e42-8f24-df800ff30de3",
   "metadata": {},
   "outputs": [
    {
     "name": "stdout",
     "output_type": "stream",
     "text": [
      " 100/1000: W: 0.6730, b: -0.0000, loss: 0.1496\n",
      " 200/1000: W: 0.9191, b: 0.0000, loss: 0.0867\n",
      " 300/1000: W: 1.0749, b: 0.0000, loss: 0.0620\n",
      " 400/1000: W: 1.1902, b: -0.0000, loss: 0.0486\n",
      " 500/1000: W: 1.2821, b: 0.0000, loss: 0.0401\n",
      " 600/1000: W: 1.3587, b: 0.0000, loss: 0.0342\n",
      " 700/1000: W: 1.4246, b: 0.0000, loss: 0.0299\n",
      " 800/1000: W: 1.4823, b: 0.0000, loss: 0.0265\n",
      " 900/1000: W: 1.5338, b: 0.0000, loss: 0.0238\n",
      "1000/1000: W: 1.5803, b: 0.0000, loss: 0.0217\n"
     ]
    }
   ],
   "source": [
    "import torch\n",
    "from torch.optim import SGD\n",
    "from torch.nn.functional import binary_cross_entropy\n",
    "\n",
    "X_train = torch.FloatTensor([[-4], [-2], [2], [4]])\n",
    "y_train = torch.FloatTensor([[0], [0], [1], [1]])\n",
    "\n",
    "W = torch.zeros((1, 1), requires_grad=True)\n",
    "b = torch.zeros(1, requires_grad=True)\n",
    "\n",
    "optimizer = SGD([W, b], lr=0.01)\n",
    "\n",
    "epochs = 1000\n",
    "\n",
    "for epoch in range(1, epochs + 1):\n",
    "    # H = 1 / 1 + torch.exp(-(X_train.matmul(W) + b))\n",
    "\n",
    "    # losses = -(y_train * torch.log(H) + (1 - y_train) * torch.log(1 - H))\n",
    "    # loss = losses.mean()\n",
    "\n",
    "    # 위의 주석 처리한 코드를 간편화\n",
    "    H = torch.sigmoid(X_train.matmul(W) + b)\n",
    "    loss = binary_cross_entropy(H, y_train)\n",
    "\n",
    "    optimizer.zero_grad()\n",
    "    loss.backward()\n",
    "    optimizer.step()\n",
    "\n",
    "    if epoch % 100 == 0:\n",
    "        print('{:4d}/{}: W: {:.4f}, b: {:.4f}, loss: {:.4f}' \\\n",
    "              .format(epoch, epochs, W.item(), b.item(), loss.item()))"
   ]
  },
  {
   "cell_type": "code",
   "execution_count": 13,
   "id": "f5d1e5f9-f3a2-424b-a8a0-1a8d8c1530c9",
   "metadata": {},
   "outputs": [
    {
     "data": {
      "text/plain": [
       "tensor([[False],\n",
       "        [False],\n",
       "        [ True],\n",
       "        [ True]])"
      ]
     },
     "execution_count": 13,
     "metadata": {},
     "output_type": "execute_result"
    }
   ],
   "source": [
    "H >= 0.5"
   ]
  },
  {
   "cell_type": "code",
   "execution_count": null,
   "id": "ce6c96c5-55ff-436b-85b8-80d145d59e44",
   "metadata": {},
   "outputs": [],
   "source": []
  },
  {
   "cell_type": "code",
   "execution_count": 15,
   "id": "9e7d13cb-5e5d-47d3-9e16-d534b4af4e8a",
   "metadata": {},
   "outputs": [
    {
     "data": {
      "text/html": [
       "<div>\n",
       "<style scoped>\n",
       "    .dataframe tbody tr th:only-of-type {\n",
       "        vertical-align: middle;\n",
       "    }\n",
       "\n",
       "    .dataframe tbody tr th {\n",
       "        vertical-align: top;\n",
       "    }\n",
       "\n",
       "    .dataframe thead th {\n",
       "        text-align: right;\n",
       "    }\n",
       "</style>\n",
       "<table border=\"1\" class=\"dataframe\">\n",
       "  <thead>\n",
       "    <tr style=\"text-align: right;\">\n",
       "      <th></th>\n",
       "      <th>age</th>\n",
       "      <th>sex</th>\n",
       "      <th>cp</th>\n",
       "      <th>trtbps</th>\n",
       "      <th>chol</th>\n",
       "      <th>fbs</th>\n",
       "      <th>restecg</th>\n",
       "      <th>thalachh</th>\n",
       "      <th>exng</th>\n",
       "      <th>oldpeak</th>\n",
       "      <th>slp</th>\n",
       "      <th>caa</th>\n",
       "      <th>thall</th>\n",
       "      <th>output</th>\n",
       "    </tr>\n",
       "  </thead>\n",
       "  <tbody>\n",
       "    <tr>\n",
       "      <th>0</th>\n",
       "      <td>63</td>\n",
       "      <td>1</td>\n",
       "      <td>3</td>\n",
       "      <td>145</td>\n",
       "      <td>233</td>\n",
       "      <td>1</td>\n",
       "      <td>0</td>\n",
       "      <td>150</td>\n",
       "      <td>0</td>\n",
       "      <td>2.3</td>\n",
       "      <td>0</td>\n",
       "      <td>0</td>\n",
       "      <td>1</td>\n",
       "      <td>1</td>\n",
       "    </tr>\n",
       "    <tr>\n",
       "      <th>1</th>\n",
       "      <td>37</td>\n",
       "      <td>1</td>\n",
       "      <td>2</td>\n",
       "      <td>130</td>\n",
       "      <td>250</td>\n",
       "      <td>0</td>\n",
       "      <td>1</td>\n",
       "      <td>187</td>\n",
       "      <td>0</td>\n",
       "      <td>3.5</td>\n",
       "      <td>0</td>\n",
       "      <td>0</td>\n",
       "      <td>2</td>\n",
       "      <td>1</td>\n",
       "    </tr>\n",
       "    <tr>\n",
       "      <th>2</th>\n",
       "      <td>41</td>\n",
       "      <td>0</td>\n",
       "      <td>1</td>\n",
       "      <td>130</td>\n",
       "      <td>204</td>\n",
       "      <td>0</td>\n",
       "      <td>0</td>\n",
       "      <td>172</td>\n",
       "      <td>0</td>\n",
       "      <td>1.4</td>\n",
       "      <td>2</td>\n",
       "      <td>0</td>\n",
       "      <td>2</td>\n",
       "      <td>1</td>\n",
       "    </tr>\n",
       "    <tr>\n",
       "      <th>3</th>\n",
       "      <td>56</td>\n",
       "      <td>1</td>\n",
       "      <td>1</td>\n",
       "      <td>120</td>\n",
       "      <td>236</td>\n",
       "      <td>0</td>\n",
       "      <td>1</td>\n",
       "      <td>178</td>\n",
       "      <td>0</td>\n",
       "      <td>0.8</td>\n",
       "      <td>2</td>\n",
       "      <td>0</td>\n",
       "      <td>2</td>\n",
       "      <td>1</td>\n",
       "    </tr>\n",
       "    <tr>\n",
       "      <th>4</th>\n",
       "      <td>57</td>\n",
       "      <td>0</td>\n",
       "      <td>0</td>\n",
       "      <td>120</td>\n",
       "      <td>354</td>\n",
       "      <td>0</td>\n",
       "      <td>1</td>\n",
       "      <td>163</td>\n",
       "      <td>1</td>\n",
       "      <td>0.6</td>\n",
       "      <td>2</td>\n",
       "      <td>0</td>\n",
       "      <td>2</td>\n",
       "      <td>1</td>\n",
       "    </tr>\n",
       "    <tr>\n",
       "      <th>...</th>\n",
       "      <td>...</td>\n",
       "      <td>...</td>\n",
       "      <td>...</td>\n",
       "      <td>...</td>\n",
       "      <td>...</td>\n",
       "      <td>...</td>\n",
       "      <td>...</td>\n",
       "      <td>...</td>\n",
       "      <td>...</td>\n",
       "      <td>...</td>\n",
       "      <td>...</td>\n",
       "      <td>...</td>\n",
       "      <td>...</td>\n",
       "      <td>...</td>\n",
       "    </tr>\n",
       "    <tr>\n",
       "      <th>298</th>\n",
       "      <td>57</td>\n",
       "      <td>0</td>\n",
       "      <td>0</td>\n",
       "      <td>140</td>\n",
       "      <td>241</td>\n",
       "      <td>0</td>\n",
       "      <td>1</td>\n",
       "      <td>123</td>\n",
       "      <td>1</td>\n",
       "      <td>0.2</td>\n",
       "      <td>1</td>\n",
       "      <td>0</td>\n",
       "      <td>3</td>\n",
       "      <td>0</td>\n",
       "    </tr>\n",
       "    <tr>\n",
       "      <th>299</th>\n",
       "      <td>45</td>\n",
       "      <td>1</td>\n",
       "      <td>3</td>\n",
       "      <td>110</td>\n",
       "      <td>264</td>\n",
       "      <td>0</td>\n",
       "      <td>1</td>\n",
       "      <td>132</td>\n",
       "      <td>0</td>\n",
       "      <td>1.2</td>\n",
       "      <td>1</td>\n",
       "      <td>0</td>\n",
       "      <td>3</td>\n",
       "      <td>0</td>\n",
       "    </tr>\n",
       "    <tr>\n",
       "      <th>300</th>\n",
       "      <td>68</td>\n",
       "      <td>1</td>\n",
       "      <td>0</td>\n",
       "      <td>144</td>\n",
       "      <td>193</td>\n",
       "      <td>1</td>\n",
       "      <td>1</td>\n",
       "      <td>141</td>\n",
       "      <td>0</td>\n",
       "      <td>3.4</td>\n",
       "      <td>1</td>\n",
       "      <td>2</td>\n",
       "      <td>3</td>\n",
       "      <td>0</td>\n",
       "    </tr>\n",
       "    <tr>\n",
       "      <th>301</th>\n",
       "      <td>57</td>\n",
       "      <td>1</td>\n",
       "      <td>0</td>\n",
       "      <td>130</td>\n",
       "      <td>131</td>\n",
       "      <td>0</td>\n",
       "      <td>1</td>\n",
       "      <td>115</td>\n",
       "      <td>1</td>\n",
       "      <td>1.2</td>\n",
       "      <td>1</td>\n",
       "      <td>1</td>\n",
       "      <td>3</td>\n",
       "      <td>0</td>\n",
       "    </tr>\n",
       "    <tr>\n",
       "      <th>302</th>\n",
       "      <td>57</td>\n",
       "      <td>0</td>\n",
       "      <td>1</td>\n",
       "      <td>130</td>\n",
       "      <td>236</td>\n",
       "      <td>0</td>\n",
       "      <td>0</td>\n",
       "      <td>174</td>\n",
       "      <td>0</td>\n",
       "      <td>0.0</td>\n",
       "      <td>1</td>\n",
       "      <td>1</td>\n",
       "      <td>2</td>\n",
       "      <td>0</td>\n",
       "    </tr>\n",
       "  </tbody>\n",
       "</table>\n",
       "<p>303 rows × 14 columns</p>\n",
       "</div>"
      ],
      "text/plain": [
       "     age  sex  cp  trtbps  chol  fbs  restecg  thalachh  exng  oldpeak  slp  \\\n",
       "0     63    1   3     145   233    1        0       150     0      2.3    0   \n",
       "1     37    1   2     130   250    0        1       187     0      3.5    0   \n",
       "2     41    0   1     130   204    0        0       172     0      1.4    2   \n",
       "3     56    1   1     120   236    0        1       178     0      0.8    2   \n",
       "4     57    0   0     120   354    0        1       163     1      0.6    2   \n",
       "..   ...  ...  ..     ...   ...  ...      ...       ...   ...      ...  ...   \n",
       "298   57    0   0     140   241    0        1       123     1      0.2    1   \n",
       "299   45    1   3     110   264    0        1       132     0      1.2    1   \n",
       "300   68    1   0     144   193    1        1       141     0      3.4    1   \n",
       "301   57    1   0     130   131    0        1       115     1      1.2    1   \n",
       "302   57    0   1     130   236    0        0       174     0      0.0    1   \n",
       "\n",
       "     caa  thall  output  \n",
       "0      0      1       1  \n",
       "1      0      2       1  \n",
       "2      0      2       1  \n",
       "3      0      2       1  \n",
       "4      0      2       1  \n",
       "..   ...    ...     ...  \n",
       "298    0      3       0  \n",
       "299    0      3       0  \n",
       "300    2      3       0  \n",
       "301    1      3       0  \n",
       "302    1      2       0  \n",
       "\n",
       "[303 rows x 14 columns]"
      ]
     },
     "execution_count": 15,
     "metadata": {},
     "output_type": "execute_result"
    }
   ],
   "source": [
    "import pandas as pd\n",
    "\n",
    "h_df = pd.read_csv('./datasets/heart.csv')\n",
    "h_df"
   ]
  },
  {
   "cell_type": "code",
   "execution_count": 16,
   "id": "199b304e-7dea-4ca6-a4ed-a1126067d128",
   "metadata": {},
   "outputs": [
    {
     "data": {
      "text/plain": [
       "array([[<Axes: title={'center': 'age'}>, <Axes: title={'center': 'sex'}>,\n",
       "        <Axes: title={'center': 'cp'}>,\n",
       "        <Axes: title={'center': 'trtbps'}>],\n",
       "       [<Axes: title={'center': 'chol'}>,\n",
       "        <Axes: title={'center': 'fbs'}>,\n",
       "        <Axes: title={'center': 'restecg'}>,\n",
       "        <Axes: title={'center': 'thalachh'}>],\n",
       "       [<Axes: title={'center': 'exng'}>,\n",
       "        <Axes: title={'center': 'oldpeak'}>,\n",
       "        <Axes: title={'center': 'slp'}>, <Axes: title={'center': 'caa'}>],\n",
       "       [<Axes: title={'center': 'thall'}>,\n",
       "        <Axes: title={'center': 'output'}>, <Axes: >, <Axes: >]],\n",
       "      dtype=object)"
      ]
     },
     "execution_count": 16,
     "metadata": {},
     "output_type": "execute_result"
    },
    {
     "data": {
      "image/png": "[encoded data removed]",
      "text/plain": [
       "<Figure size 1000x1000 with 16 Axes>"
      ]
     },
     "metadata": {},
     "output_type": "display_data"
    }
   ],
   "source": [
    "h_df.hist(figsize=(10, 10), bins=50)"
   ]
  },
  {
   "cell_type": "code",
   "execution_count": 26,
   "id": "2530a6be-0927-4a78-9282-baca188d3b0f",
   "metadata": {},
   "outputs": [
    {
     "name": "stdout",
     "output_type": "stream",
     "text": [
      "Epoch: 10000/100000\n",
      "W1: -0.0182, W2: 0.0094, W3: 0.3134, W4: -0.025, W5: -0.0033, W6: -0.2062, W7: -0.0893, W8: 0.0334, W9: -0.0551, W10: -0.2315, W11: -0.1629, W12: -0.1381, W13: 0.1833, b: 0.2311\n",
      "loss: 0.5053\n",
      "Epoch: 20000/100000\n",
      "W1: -0.0146, W2: -0.047, W3: 0.4105, W4: -0.0239, W5: -0.0029, W6: -0.2039, W7: -0.0738, W8: 0.0319, W9: -0.094, W10: -0.2915, W11: -0.1327, W12: -0.2279, W13: 0.1016, b: 0.2288\n",
      "loss: 0.4697\n",
      "Epoch: 30000/100000\n",
      "W1: -0.012, W2: -0.0973, W3: 0.4881, W4: -0.0232, W5: -0.0026, W6: -0.2018, W7: -0.0586, W8: 0.031, W9: -0.1267, W10: -0.3385, W11: -0.1062, W12: -0.3004, W13: 0.0306, b: 0.2271\n",
      "loss: 0.4454\n",
      "Epoch: 40000/100000\n",
      "W1: -0.0099, W2: -0.1428, W3: 0.551, W4: -0.0228, W5: -0.0023, W6: -0.1999, W7: -0.0438, W8: 0.0305, W9: -0.1547, W10: -0.3762, W11: -0.0825, W12: -0.3599, W13: -0.0319, b: 0.2257\n",
      "loss: 0.428\n",
      "Epoch: 50000/100000\n",
      "W1: -0.0082, W2: -0.1842, W3: 0.6026, W4: -0.0225, W5: -0.0021, W6: -0.1982, W7: -0.0295, W8: 0.0302, W9: -0.179, W10: -0.4069, W11: -0.0608, W12: -0.4094, W13: -0.0876, b: 0.2247\n",
      "loss: 0.4152\n",
      "Epoch: 60000/100000\n",
      "W1: -0.0067, W2: -0.2224, W3: 0.6456, W4: -0.0222, W5: -0.0019, W6: -0.1966, W7: -0.0156, W8: 0.03, W9: -0.2004, W10: -0.4323, W11: -0.0407, W12: -0.4512, W13: -0.1376, b: 0.224\n",
      "loss: 0.4054\n",
      "Epoch: 70000/100000\n",
      "W1: -0.0056, W2: -0.2579, W3: 0.6817, W4: -0.022, W5: -0.0018, W6: -0.1951, W7: -0.0021, W8: 0.03, W9: -0.2194, W10: -0.4535, W11: -0.022, W12: -0.4868, W13: -0.183, b: 0.2235\n",
      "loss: 0.3978\n",
      "Epoch: 80000/100000\n",
      "W1: -0.0046, W2: -0.291, W3: 0.7124, W4: -0.0219, W5: -0.0017, W6: -0.1937, W7: 0.011, W8: 0.0299, W9: -0.2366, W10: -0.4714, W11: -0.0043, W12: -0.5175, W13: -0.2246, b: 0.2232\n",
      "loss: 0.3917\n",
      "Epoch: 90000/100000\n",
      "W1: -0.0037, W2: -0.3221, W3: 0.7385, W4: -0.0218, W5: -0.0016, W6: -0.1924, W7: 0.0237, W8: 0.0299, W9: -0.2521, W10: -0.4866, W11: 0.0124, W12: -0.5442, W13: -0.2627, b: 0.223\n",
      "loss: 0.3867\n",
      "Epoch: 100000/100000\n",
      "W1: -0.0029, W2: -0.3515, W3: 0.7611, W4: -0.0216, W5: -0.0015, W6: -0.1912, W7: 0.0361, W8: 0.03, W9: -0.2663, W10: -0.4994, W11: 0.0283, W12: -0.5675, W13: -0.298, b: 0.223\n",
      "loss: 0.3825\n"
     ]
    }
   ],
   "source": [
    "import torch\n",
    "from torch.nn import Sequential, Linear, Sigmoid\n",
    "from torch.optim import SGD\n",
    "from torch.nn.functional import binary_cross_entropy\n",
    "from sklearn.model_selection import train_test_split\n",
    "import numpy as np\n",
    "\n",
    "torch.manual_seed(124)\n",
    "\n",
    "features, targets = h_df.iloc[:, :-1], h_df.iloc[:, -1]\n",
    "\n",
    "X_train, X_test, y_train, y_test = \\\n",
    "                train_test_split(features, targets, stratify=targets, test_size=0.2, random_state=124)\n",
    "\n",
    "X_train = torch.FloatTensor(X_train.values)\n",
    "y_train = torch.FloatTensor(y_train.values).view(-1, 1)\n",
    "X_test = torch.FloatTensor(X_test.values)\n",
    "y_test = torch.FloatTensor(y_test.values).view(-1, 1)\n",
    "\n",
    "# 이전 과정의 출력이 다음 과정의 입력이 된다\n",
    "logistic_r = Sequential(\n",
    "    Linear(13, 1), # 13개의 input을 통해 결과 출력\n",
    "    Sigmoid(), # 위 결과에 Sigmoid 적용\n",
    ")\n",
    "\n",
    "optimizer = SGD(logistic_r.parameters(), lr=0.000095)\n",
    "\n",
    "epochs = 100000\n",
    "\n",
    "for epoch in range(1, epochs + 1):\n",
    "    H = logistic_r(X_train)\n",
    "    loss = binary_cross_entropy(H, y_train)\n",
    "\n",
    "    optimizer.zero_grad()\n",
    "    loss.backward()\n",
    "    optimizer.step()\n",
    "\n",
    "    if epoch % 10000 == 0:\n",
    "        print(f'Epoch: {epoch}/{epochs}')\n",
    "        for i, w in enumerate(list(logistic_r.parameters())[0][0]):\n",
    "            print(f'W{i + 1}: {np.round(w.item(), 4)}, ', end='')\n",
    "        print(f'b: {np.round(list(logistic_r.parameters())[1].item(), 4)}')\n",
    "        print(f'loss: {np.round(loss.item(), 4)}')"
   ]
  },
  {
   "cell_type": "code",
   "execution_count": 27,
   "id": "b0945b26-a841-42da-bda4-dba126fb3332",
   "metadata": {},
   "outputs": [],
   "source": [
    "import matplotlib.pyplot as plt\n",
    "from sklearn.metrics import accuracy_score, precision_score, recall_score, f1_score, roc_auc_score, confusion_matrix, ConfusionMatrixDisplay\n",
    "\n",
    "def get_evaluation(y_test, prediction, classifier=None, X_test=None):\n",
    "    confusion = confusion_matrix(y_test, prediction)\n",
    "    accuracy = accuracy_score(y_test , prediction)\n",
    "    precision = precision_score(y_test , prediction)\n",
    "    recall = recall_score(y_test , prediction)\n",
    "    f1 = f1_score(y_test, prediction)\n",
    "    auc = roc_auc_score(y_test, prediction)\n",
    "    \n",
    "    print('오차 행렬')\n",
    "    print(confusion)\n",
    "    print('정확도: {0:.4f}, 정밀도: {1:.4f}, 재현율: {2:.4f}, F1: {3:.4f}, ROC-AUC: {4:.4f}'.format(accuracy, precision, recall, f1, auc))\n",
    "    print(\"#\" * 80)\n",
    "    \n",
    "    if classifier is not None and  X_test is not None:\n",
    "        fig, axes = plt.subplots(nrows=1, ncols=2, figsize=(12,4))\n",
    "        titles_options = [(\"Confusion matrix\", None), (\"Normalized confusion matrix\", \"true\")]\n",
    "\n",
    "        for (title, normalize), ax in zip(titles_options, axes.flatten()):\n",
    "            disp = ConfusionMatrixDisplay.from_estimator(classifier, X_test, y_test, ax=ax, cmap=plt.cm.Blues, normalize=normalize)\n",
    "            disp.ax_.set_title(title)\n",
    "        plt.show()"
   ]
  },
  {
   "cell_type": "code",
   "execution_count": 29,
   "id": "918315d8-346a-41e5-a034-0a863484991f",
   "metadata": {
    "scrolled": true
   },
   "outputs": [
    {
     "ename": "AttributeError",
     "evalue": "'Sequential' object has no attribute 'predict'",
     "output_type": "error",
     "traceback": [
      "\u001b[1;31m---------------------------------------------------------------------------\u001b[0m",
      "\u001b[1;31mAttributeError\u001b[0m                            Traceback (most recent call last)",
      "Cell \u001b[1;32mIn[29], line 1\u001b[0m\n\u001b[1;32m----> 1\u001b[0m prediction \u001b[38;5;241m=\u001b[39m logistic_r\u001b[38;5;241m.\u001b[39mpredict(X_test)\n\u001b[0;32m      2\u001b[0m get_evaluation(y_test, prediction)\n",
      "File \u001b[1;32mC:\\ProgramData\\anaconda3\\Lib\\site-packages\\torch\\nn\\modules\\module.py:1709\u001b[0m, in \u001b[0;36mModule.__getattr__\u001b[1;34m(self, name)\u001b[0m\n\u001b[0;32m   1707\u001b[0m     \u001b[38;5;28;01mif\u001b[39;00m name \u001b[38;5;129;01min\u001b[39;00m modules:\n\u001b[0;32m   1708\u001b[0m         \u001b[38;5;28;01mreturn\u001b[39;00m modules[name]\n\u001b[1;32m-> 1709\u001b[0m \u001b[38;5;28;01mraise\u001b[39;00m \u001b[38;5;167;01mAttributeError\u001b[39;00m(\u001b[38;5;124mf\u001b[39m\u001b[38;5;124m\"\u001b[39m\u001b[38;5;124m'\u001b[39m\u001b[38;5;132;01m{\u001b[39;00m\u001b[38;5;28mtype\u001b[39m(\u001b[38;5;28mself\u001b[39m)\u001b[38;5;241m.\u001b[39m\u001b[38;5;18m__name__\u001b[39m\u001b[38;5;132;01m}\u001b[39;00m\u001b[38;5;124m'\u001b[39m\u001b[38;5;124m object has no attribute \u001b[39m\u001b[38;5;124m'\u001b[39m\u001b[38;5;132;01m{\u001b[39;00mname\u001b[38;5;132;01m}\u001b[39;00m\u001b[38;5;124m'\u001b[39m\u001b[38;5;124m\"\u001b[39m)\n",
      "\u001b[1;31mAttributeError\u001b[0m: 'Sequential' object has no attribute 'predict'"
     ]
    }
   ],
   "source": [
    "prediction = logistic_r.predict(X_test)\n",
    "get_evaluation(y_test, prediction)"
   ]
  },
  {
   "cell_type": "markdown",
   "id": "828d6a7e-9da7-4d86-a361-25ccc5d13c1e",
   "metadata": {},
   "source": [
    "### Sklearn.linear_model.LogisticRegression"
   ]
  },
  {
   "cell_type": "code",
   "execution_count": null,
   "id": "886dfcde-c739-4b6b-80d1-6560afe07048",
   "metadata": {},
   "outputs": [],
   "source": [
    "from sklearn.model_selection import train_test_split\n",
    "from sklearn.linear_model import LogisticRegression\n",
    "\n",
    "features, targets = h_df.iloc[:, :-1], h_df.iloc[:, -1]\n",
    "\n",
    "X_train, X_test, y_train, y_test = \\\n",
    "                train_test_split(features, targets, stratify=targets, test_size=0.2, random_state=124)\n",
    "\n",
    "# 일반적으로 데이터 세트가 작은 경우에는 liblinear가, 큰 경우에는 sag, saga의 성능이 더 좋다\n",
    "# 다중 분류는 \n",
    "logistic_r = LogisticRegression(solver='liblinear', penalty='l2', C=1, random_state=124)\n",
    "logistic_r.fit(X_train, y_train)\n",
    "prediction = logistic_r.predict(X_test)"
   ]
  },
  {
   "cell_type": "code",
   "execution_count": null,
   "id": "c7b65897-1dd2-4e49-a284-adb722556e56",
   "metadata": {},
   "outputs": [],
   "source": []
  },
  {
   "cell_type": "code",
   "execution_count": null,
   "id": "c8d8932d-f975-4ad8-83bc-a836acf3c10b",
   "metadata": {},
   "outputs": [],
   "source": []
  },
  {
   "cell_type": "code",
   "execution_count": null,
   "id": "7d735353-97f0-4121-8af6-baa99087d216",
   "metadata": {},
   "outputs": [],
   "source": []
  },
  {
   "cell_type": "code",
   "execution_count": null,
   "id": "1b01f8b3-1ad8-4337-afa4-6c22c9e3b22a",
   "metadata": {},
   "outputs": [],
   "source": []
  },
  {
   "cell_type": "code",
   "execution_count": null,
   "id": "a160ca90-e589-4c94-9971-86a4094f6402",
   "metadata": {},
   "outputs": [],
   "source": []
  },
  {
   "cell_type": "code",
   "execution_count": null,
   "id": "6127d58c-f739-499e-b4ce-b5bcc8ac250d",
   "metadata": {},
   "outputs": [],
   "source": []
  },
  {
   "cell_type": "code",
   "execution_count": null,
   "id": "841b4902-c632-4dd8-b4e6-c00df3074fc0",
   "metadata": {},
   "outputs": [],
   "source": []
  },
  {
   "cell_type": "code",
   "execution_count": null,
   "id": "afd12d9e-08e6-407e-bc66-4b5cc9dc2e56",
   "metadata": {},
   "outputs": [],
   "source": []
  },
  {
   "cell_type": "code",
   "execution_count": null,
   "id": "49bb2686-2227-449a-9033-81f90b06f8a3",
   "metadata": {},
   "outputs": [],
   "source": []
  },
  {
   "cell_type": "code",
   "execution_count": null,
   "id": "d3a40f64-dd99-44d4-9e4a-14fe00dc9333",
   "metadata": {},
   "outputs": [],
   "source": []
  },
  {
   "cell_type": "code",
   "execution_count": null,
   "id": "0b02b95c-727b-4ea3-bfa7-0ceee425bc9f",
   "metadata": {},
   "outputs": [],
   "source": []
  },
  {
   "cell_type": "code",
   "execution_count": null,
   "id": "df260b7a-c8b7-4043-8080-4834cc7e33ce",
   "metadata": {},
   "outputs": [],
   "source": []
  },
  {
   "cell_type": "code",
   "execution_count": null,
   "id": "56fab0a9-2129-44ab-be35-6f26463f3ed6",
   "metadata": {},
   "outputs": [],
   "source": []
  },
  {
   "cell_type": "code",
   "execution_count": null,
   "id": "9f826e5f-751e-436f-9e55-6ba2c9ebf564",
   "metadata": {},
   "outputs": [],
   "source": []
  },
  {
   "cell_type": "code",
   "execution_count": null,
   "id": "9cc94a07-c929-4e80-be53-8862328fbb53",
   "metadata": {},
   "outputs": [],
   "source": []
  },
  {
   "cell_type": "code",
   "execution_count": null,
   "id": "84189a63-26aa-4105-b66e-1911e58eead0",
   "metadata": {},
   "outputs": [],
   "source": []
  },
  {
   "cell_type": "code",
   "execution_count": null,
   "id": "19e51aa8-6df6-4bee-beea-df15acc431ad",
   "metadata": {},
   "outputs": [],
   "source": []
  },
  {
   "cell_type": "code",
   "execution_count": null,
   "id": "1fe38fd8-bcd9-4c21-894d-45e85ab2c67c",
   "metadata": {},
   "outputs": [],
   "source": []
  },
  {
   "cell_type": "code",
   "execution_count": null,
   "id": "ff9fcbd7-f17d-4e67-bf59-987cf4a58816",
   "metadata": {},
   "outputs": [],
   "source": []
  },
  {
   "cell_type": "code",
   "execution_count": null,
   "id": "fa9485bb-d721-4915-8319-df02c3a4a5d9",
   "metadata": {},
   "outputs": [],
   "source": []
  },
  {
   "cell_type": "code",
   "execution_count": null,
   "id": "356a142e-9c60-44ec-8f54-c2fdb54b068e",
   "metadata": {},
   "outputs": [],
   "source": []
  },
  {
   "cell_type": "code",
   "execution_count": null,
   "id": "12c1e0da-3371-4236-a1b8-133d3b99922f",
   "metadata": {},
   "outputs": [],
   "source": []
  },
  {
   "cell_type": "code",
   "execution_count": null,
   "id": "017adb98-a14e-4c5c-90f0-89478f62dd6e",
   "metadata": {},
   "outputs": [],
   "source": []
  },
  {
   "cell_type": "code",
   "execution_count": null,
   "id": "afd3b518-d091-4939-85d6-a801da6c5e0f",
   "metadata": {},
   "outputs": [],
   "source": []
  },
  {
   "cell_type": "code",
   "execution_count": null,
   "id": "18fb1b37-d63f-4078-845c-37bf33b924fb",
   "metadata": {},
   "outputs": [],
   "source": []
  },
  {
   "cell_type": "code",
   "execution_count": null,
   "id": "ac1f20f9-48a0-4b7e-90c6-852c9d103550",
   "metadata": {},
   "outputs": [],
   "source": []
  },
  {
   "cell_type": "code",
   "execution_count": null,
   "id": "340e0819-8f4d-4433-9edd-3839d3099917",
   "metadata": {},
   "outputs": [],
   "source": []
  },
  {
   "cell_type": "code",
   "execution_count": null,
   "id": "fe75511e-04be-46c7-bf82-b77be7676ed9",
   "metadata": {},
   "outputs": [],
   "source": []
  },
  {
   "cell_type": "code",
   "execution_count": null,
   "id": "22b18334-e1a8-4461-9735-9fa021b6e6b8",
   "metadata": {},
   "outputs": [],
   "source": []
  },
  {
   "cell_type": "code",
   "execution_count": null,
   "id": "5ae884ce-7a76-48b6-acec-b4f599aba7f8",
   "metadata": {},
   "outputs": [],
   "source": []
  },
  {
   "cell_type": "code",
   "execution_count": null,
   "id": "53a098c0-abde-43c3-92d8-dcc205b26863",
   "metadata": {},
   "outputs": [],
   "source": []
  },
  {
   "cell_type": "code",
   "execution_count": null,
   "id": "b619d424-2296-4b49-877a-56548257a74c",
   "metadata": {},
   "outputs": [],
   "source": []
  },
  {
   "cell_type": "code",
   "execution_count": null,
   "id": "9768e587-f013-4ff9-b93f-12b6ddc00d02",
   "metadata": {},
   "outputs": [],
   "source": []
  },
  {
   "cell_type": "code",
   "execution_count": null,
   "id": "a5b71a3d-8096-4840-9847-bcc758b5a444",
   "metadata": {},
   "outputs": [],
   "source": []
  },
  {
   "cell_type": "code",
   "execution_count": null,
   "id": "835a5952-c8b7-4351-b728-e3d10f292680",
   "metadata": {},
   "outputs": [],
   "source": []
  },
  {
   "cell_type": "code",
   "execution_count": null,
   "id": "5329db27-d4a8-4d14-8c06-3a58710b2dcc",
   "metadata": {},
   "outputs": [],
   "source": []
  },
  {
   "cell_type": "code",
   "execution_count": null,
   "id": "aa13bedd-d38d-4c17-9558-51de0c25ef15",
   "metadata": {},
   "outputs": [],
   "source": []
  },
  {
   "cell_type": "code",
   "execution_count": null,
   "id": "768b8d78-0041-422b-965c-82f54d537fec",
   "metadata": {},
   "outputs": [],
   "source": []
  },
  {
   "cell_type": "code",
   "execution_count": null,
   "id": "42f3d265-124d-4e53-adbc-f568f07eb02f",
   "metadata": {},
   "outputs": [],
   "source": []
  },
  {
   "cell_type": "code",
   "execution_count": null,
   "id": "d5261a85-8579-4bb6-b24a-50c315db54dc",
   "metadata": {},
   "outputs": [],
   "source": []
  },
  {
   "cell_type": "code",
   "execution_count": null,
   "id": "13080694-3dd8-4059-a380-5f92ddc2e058",
   "metadata": {},
   "outputs": [],
   "source": []
  },
  {
   "cell_type": "code",
   "execution_count": null,
   "id": "7f5f2141-3f97-45ac-b287-deec7bf4adf0",
   "metadata": {},
   "outputs": [],
   "source": []
  },
  {
   "cell_type": "code",
   "execution_count": null,
   "id": "6bed3a5b-d29a-44aa-a3a6-01bdce7261b2",
   "metadata": {},
   "outputs": [],
   "source": []
  },
  {
   "cell_type": "code",
   "execution_count": null,
   "id": "3942cc30-3a06-4411-a39f-f6777c0f7734",
   "metadata": {},
   "outputs": [],
   "source": []
  },
  {
   "cell_type": "code",
   "execution_count": null,
   "id": "1b8d77a9-3488-4cb3-9d2c-09e04bbfd375",
   "metadata": {},
   "outputs": [],
   "source": []
  },
  {
   "cell_type": "code",
   "execution_count": null,
   "id": "08e9da61-ab51-4f8c-887e-67079228b920",
   "metadata": {},
   "outputs": [],
   "source": []
  },
  {
   "cell_type": "code",
   "execution_count": null,
   "id": "d48dd2e5-af86-4a0b-baa3-c1a51666f2fc",
   "metadata": {},
   "outputs": [],
   "source": []
  },
  {
   "cell_type": "code",
   "execution_count": null,
   "id": "ae7c8151-b1fa-4a89-8788-fa0c7f541521",
   "metadata": {},
   "outputs": [],
   "source": []
  },
  {
   "cell_type": "code",
   "execution_count": null,
   "id": "0ba98414-784f-4a55-8a07-8329b46e2b18",
   "metadata": {},
   "outputs": [],
   "source": []
  },
  {
   "cell_type": "code",
   "execution_count": null,
   "id": "6492f420-ef12-430a-8328-4ab343d32310",
   "metadata": {},
   "outputs": [],
   "source": []
  },
  {
   "cell_type": "code",
   "execution_count": null,
   "id": "e1c08c65-b2d2-427c-b043-878e84501d81",
   "metadata": {},
   "outputs": [],
   "source": []
  },
  {
   "cell_type": "code",
   "execution_count": null,
   "id": "82ccd40c-41b2-4760-9cd3-be417b61aba9",
   "metadata": {},
   "outputs": [],
   "source": []
  },
  {
   "cell_type": "code",
   "execution_count": null,
   "id": "f5cef79e-4067-4b49-9f05-50a1f07c6219",
   "metadata": {},
   "outputs": [],
   "source": []
  },
  {
   "cell_type": "code",
   "execution_count": null,
   "id": "f9706770-b498-4e57-9dfe-b2c4e89d3ca6",
   "metadata": {},
   "outputs": [],
   "source": []
  },
  {
   "cell_type": "code",
   "execution_count": null,
   "id": "a1165aed-dc6f-4968-951c-bb76ebcda099",
   "metadata": {},
   "outputs": [],
   "source": []
  },
  {
   "cell_type": "code",
   "execution_count": null,
   "id": "bdb58259-e4b0-4a41-8477-a893a6fdd43f",
   "metadata": {},
   "outputs": [],
   "source": []
  },
  {
   "cell_type": "code",
   "execution_count": null,
   "id": "ebde5f02-06c3-4fe0-9f9a-635c95c9aab8",
   "metadata": {},
   "outputs": [],
   "source": []
  },
  {
   "cell_type": "code",
   "execution_count": null,
   "id": "b88cacfc-1338-46bd-a5be-18dd1aaa74a7",
   "metadata": {},
   "outputs": [],
   "source": []
  },
  {
   "cell_type": "code",
   "execution_count": null,
   "id": "0e09d8fd-e7d0-47fa-8e8d-9bd8485f54be",
   "metadata": {},
   "outputs": [],
   "source": []
  },
  {
   "cell_type": "code",
   "execution_count": null,
   "id": "e8daed53-141e-4dd2-aefc-3b1bd42e4939",
   "metadata": {},
   "outputs": [],
   "source": []
  },
  {
   "cell_type": "code",
   "execution_count": null,
   "id": "35e3eaf4-cdc6-4afe-9592-c30afd2cf3d1",
   "metadata": {},
   "outputs": [],
   "source": []
  },
  {
   "cell_type": "code",
   "execution_count": null,
   "id": "cc7cc08f-510b-4bc7-bb20-b062c0556d42",
   "metadata": {},
   "outputs": [],
   "source": []
  },
  {
   "cell_type": "code",
   "execution_count": null,
   "id": "923f55c9-99e2-4f07-abeb-d7e679cfbcdb",
   "metadata": {},
   "outputs": [],
   "source": []
  },
  {
   "cell_type": "code",
   "execution_count": null,
   "id": "b7efd025-d99d-4e52-aa5e-0b6b041f457a",
   "metadata": {},
   "outputs": [],
   "source": []
  },
  {
   "cell_type": "code",
   "execution_count": null,
   "id": "e4206734-e5b3-4265-ab4c-4834d9e69211",
   "metadata": {},
   "outputs": [],
   "source": []
  }
 ],
 "metadata": {
  "kernelspec": {
   "display_name": "Python 3 (ipykernel)",
   "language": "python",
   "name": "python3"
  },
  "language_info": {
   "codemirror_mode": {
    "name": "ipython",
    "version": 3
   },
   "file_extension": ".py",
   "mimetype": "text/x-python",
   "name": "python",
   "nbconvert_exporter": "python",
   "pygments_lexer": "ipython3",
   "version": "3.11.8"
  }
 },
 "nbformat": 4,
 "nbformat_minor": 5
}
